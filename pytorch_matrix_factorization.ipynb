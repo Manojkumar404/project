{
  "nbformat": 4,
  "nbformat_minor": 0,
  "metadata": {
    "kernelspec": {
      "display_name": "Python 3",
      "language": "python",
      "name": "python3"
    },
    "language_info": {
      "codemirror_mode": {
        "name": "ipython",
        "version": 3
      },
      "file_extension": ".py",
      "mimetype": "text/x-python",
      "name": "python",
      "nbconvert_exporter": "python",
      "pygments_lexer": "ipython3",
      "version": "3.7.9"
    },
    "papermill": {
      "default_parameters": {},
      "duration": 1006.409922,
      "end_time": "2021-03-26T01:26:17.513739",
      "environment_variables": {},
      "exception": null,
      "input_path": "__notebook__.ipynb",
      "output_path": "__notebook__.ipynb",
      "parameters": {},
      "start_time": "2021-03-26T01:09:31.103817",
      "version": "2.2.2"
    },
    "colab": {
      "name": "pytorch-matrix-factorization.ipynb",
      "provenance": [],
      "collapsed_sections": [],
      "toc_visible": true
    }
  },
  "cells": [
    {
      "cell_type": "code",
      "metadata": {
        "execution": {
          "iopub.execute_input": "2021-03-26T01:09:38.264060Z",
          "iopub.status.busy": "2021-03-26T01:09:38.262933Z",
          "iopub.status.idle": "2021-03-26T01:09:41.386942Z",
          "shell.execute_reply": "2021-03-26T01:09:41.387507Z"
        },
        "papermill": {
          "duration": 3.143526,
          "end_time": "2021-03-26T01:09:41.387901",
          "exception": false,
          "start_time": "2021-03-26T01:09:38.244375",
          "status": "completed"
        },
        "tags": [],
        "id": "rAigXD3idOLm"
      },
      "source": [
        "import os\n",
        "import csv\n",
        "import pandas as pd\n",
        "import random\n",
        "import numpy as np\n",
        "from sklearn.model_selection import train_test_split\n",
        "from tqdm import tqdm\n",
        "\n",
        "import torch\n",
        "from torch import nn, optim\n",
        "from torch.utils.data import Dataset\n",
        "from torch.utils.data import DataLoader\n",
        "\n",
        "DATA_DIR = './'\n",
        "OUTPUT_DIR = './'\n",
        "\n",
        "class Config:\n",
        "    device='cpu'\n",
        "    epochs=40\n",
        "    seed=17\n",
        "    train_bs=8\n",
        "    valid_bs=8\n",
        "    embedding_dim=20\n",
        "    lr=1e-2\n",
        "    num_workers=None       \n",
        "    verbose_step=100\n",
        "    \n",
        "def torch_seed_everything(seed_value=777):\n",
        "    random.seed(seed_value)\n",
        "    np.random.seed(seed_value)\n",
        "    torch.manual_seed(seed_value)\n",
        "    os.environ['PYTHONHASHSEED'] = str(seed_value)\n",
        "\n",
        "    if torch.cuda.is_available():\n",
        "        torch.cuda.manual_seed(seed_value)\n",
        "        torch.cuda.manual_seed_all(seed_value)\n",
        "        torch.backends.cudnn.deterministic = True\n",
        "        torch.backends.cudnn.benchmark = True\n",
        "\n",
        "config=Config()\n",
        "torch_seed_everything(config.seed)"
      ],
      "execution_count": 1,
      "outputs": []
    },
    {
      "cell_type": "markdown",
      "metadata": {
        "papermill": {
          "duration": 0.012853,
          "end_time": "2021-03-26T01:09:41.413531",
          "exception": false,
          "start_time": "2021-03-26T01:09:41.400678",
          "status": "completed"
        },
        "tags": [],
        "id": "MhAaVEe9dOLq"
      },
      "source": [
        "# load full data"
      ]
    },
    {
      "cell_type": "code",
      "metadata": {
        "execution": {
          "iopub.execute_input": "2021-03-26T01:09:41.445643Z",
          "iopub.status.busy": "2021-03-26T01:09:41.444456Z",
          "iopub.status.idle": "2021-03-26T01:09:41.603266Z",
          "shell.execute_reply": "2021-03-26T01:09:41.603749Z"
        },
        "papermill": {
          "duration": 0.177347,
          "end_time": "2021-03-26T01:09:41.603981",
          "exception": false,
          "start_time": "2021-03-26T01:09:41.426634",
          "status": "completed"
        },
        "tags": [],
        "colab": {
          "base_uri": "https://localhost:8080/",
          "height": 419
        },
        "id": "M5aoWxnldOLr",
        "outputId": "c6085e6d-fbd6-47cc-a6bd-7f29ef32ea65"
      },
      "source": [
        "df = pd.read_csv(os.path.join(DATA_DIR, 'u.data'), sep='\\t', header=None)\n",
        "df.columns = ['user_id', 'item_id', 'rating', 'timestamp']\n",
        "#df = df.sort_values('timestamp').reset_index(drop=True)\n",
        "n_user = df.user_id.nunique()\n",
        "n_item = df.item_id.nunique()\n",
        "df"
      ],
      "execution_count": 27,
      "outputs": [
        {
          "output_type": "execute_result",
          "data": {
            "text/html": [
              "<div>\n",
              "<style scoped>\n",
              "    .dataframe tbody tr th:only-of-type {\n",
              "        vertical-align: middle;\n",
              "    }\n",
              "\n",
              "    .dataframe tbody tr th {\n",
              "        vertical-align: top;\n",
              "    }\n",
              "\n",
              "    .dataframe thead th {\n",
              "        text-align: right;\n",
              "    }\n",
              "</style>\n",
              "<table border=\"1\" class=\"dataframe\">\n",
              "  <thead>\n",
              "    <tr style=\"text-align: right;\">\n",
              "      <th></th>\n",
              "      <th>user_id</th>\n",
              "      <th>item_id</th>\n",
              "      <th>rating</th>\n",
              "      <th>timestamp</th>\n",
              "    </tr>\n",
              "  </thead>\n",
              "  <tbody>\n",
              "    <tr>\n",
              "      <th>0</th>\n",
              "      <td>196</td>\n",
              "      <td>242</td>\n",
              "      <td>3</td>\n",
              "      <td>881250949</td>\n",
              "    </tr>\n",
              "    <tr>\n",
              "      <th>1</th>\n",
              "      <td>186</td>\n",
              "      <td>302</td>\n",
              "      <td>3</td>\n",
              "      <td>891717742</td>\n",
              "    </tr>\n",
              "    <tr>\n",
              "      <th>2</th>\n",
              "      <td>22</td>\n",
              "      <td>377</td>\n",
              "      <td>1</td>\n",
              "      <td>878887116</td>\n",
              "    </tr>\n",
              "    <tr>\n",
              "      <th>3</th>\n",
              "      <td>244</td>\n",
              "      <td>51</td>\n",
              "      <td>2</td>\n",
              "      <td>880606923</td>\n",
              "    </tr>\n",
              "    <tr>\n",
              "      <th>4</th>\n",
              "      <td>166</td>\n",
              "      <td>346</td>\n",
              "      <td>1</td>\n",
              "      <td>886397596</td>\n",
              "    </tr>\n",
              "    <tr>\n",
              "      <th>...</th>\n",
              "      <td>...</td>\n",
              "      <td>...</td>\n",
              "      <td>...</td>\n",
              "      <td>...</td>\n",
              "    </tr>\n",
              "    <tr>\n",
              "      <th>99995</th>\n",
              "      <td>880</td>\n",
              "      <td>476</td>\n",
              "      <td>3</td>\n",
              "      <td>880175444</td>\n",
              "    </tr>\n",
              "    <tr>\n",
              "      <th>99996</th>\n",
              "      <td>716</td>\n",
              "      <td>204</td>\n",
              "      <td>5</td>\n",
              "      <td>879795543</td>\n",
              "    </tr>\n",
              "    <tr>\n",
              "      <th>99997</th>\n",
              "      <td>276</td>\n",
              "      <td>1090</td>\n",
              "      <td>1</td>\n",
              "      <td>874795795</td>\n",
              "    </tr>\n",
              "    <tr>\n",
              "      <th>99998</th>\n",
              "      <td>13</td>\n",
              "      <td>225</td>\n",
              "      <td>2</td>\n",
              "      <td>882399156</td>\n",
              "    </tr>\n",
              "    <tr>\n",
              "      <th>99999</th>\n",
              "      <td>12</td>\n",
              "      <td>203</td>\n",
              "      <td>3</td>\n",
              "      <td>879959583</td>\n",
              "    </tr>\n",
              "  </tbody>\n",
              "</table>\n",
              "<p>100000 rows × 4 columns</p>\n",
              "</div>"
            ],
            "text/plain": [
              "       user_id  item_id  rating  timestamp\n",
              "0          196      242       3  881250949\n",
              "1          186      302       3  891717742\n",
              "2           22      377       1  878887116\n",
              "3          244       51       2  880606923\n",
              "4          166      346       1  886397596\n",
              "...        ...      ...     ...        ...\n",
              "99995      880      476       3  880175444\n",
              "99996      716      204       5  879795543\n",
              "99997      276     1090       1  874795795\n",
              "99998       13      225       2  882399156\n",
              "99999       12      203       3  879959583\n",
              "\n",
              "[100000 rows x 4 columns]"
            ]
          },
          "metadata": {
            "tags": []
          },
          "execution_count": 27
        }
      ]
    },
    {
      "cell_type": "markdown",
      "metadata": {
        "id": "p-or3DjtJ2Fo"
      },
      "source": [
        "Data clustering into 3 blocks\n"
      ]
    },
    {
      "cell_type": "code",
      "metadata": {
        "id": "afRf1gAAFXaM"
      },
      "source": [
        "csvfile = open('u.data', 'r').readlines()\n",
        "filename = 1\n",
        "for i in range(len(csvfile)):\n",
        "     if i % 33334 == 0:\n",
        "         open(str(filename) + '.data', 'w+').writelines(csvfile[i:i+33333])\n",
        "         filename += 1"
      ],
      "execution_count": 9,
      "outputs": []
    },
    {
      "cell_type": "code",
      "metadata": {
        "colab": {
          "base_uri": "https://localhost:8080/",
          "height": 419
        },
        "id": "PXz_Vf6gIYbu",
        "outputId": "60aed591-c65c-428b-93d4-59a79190c698"
      },
      "source": [
        "df1 = pd.read_csv(os.path.join(DATA_DIR, '1.data'), sep='\\t', header=None)\n",
        "df1.columns = ['user_id', 'item_id', 'rating', 'timestamp']\n",
        "n_user = df.user_id.nunique()\n",
        "n_item = df.item_id.nunique()\n",
        "df1"
      ],
      "execution_count": 29,
      "outputs": [
        {
          "output_type": "execute_result",
          "data": {
            "text/html": [
              "<div>\n",
              "<style scoped>\n",
              "    .dataframe tbody tr th:only-of-type {\n",
              "        vertical-align: middle;\n",
              "    }\n",
              "\n",
              "    .dataframe tbody tr th {\n",
              "        vertical-align: top;\n",
              "    }\n",
              "\n",
              "    .dataframe thead th {\n",
              "        text-align: right;\n",
              "    }\n",
              "</style>\n",
              "<table border=\"1\" class=\"dataframe\">\n",
              "  <thead>\n",
              "    <tr style=\"text-align: right;\">\n",
              "      <th></th>\n",
              "      <th>user_id</th>\n",
              "      <th>item_id</th>\n",
              "      <th>rating</th>\n",
              "      <th>timestamp</th>\n",
              "    </tr>\n",
              "  </thead>\n",
              "  <tbody>\n",
              "    <tr>\n",
              "      <th>0</th>\n",
              "      <td>196</td>\n",
              "      <td>242</td>\n",
              "      <td>3</td>\n",
              "      <td>881250949</td>\n",
              "    </tr>\n",
              "    <tr>\n",
              "      <th>1</th>\n",
              "      <td>186</td>\n",
              "      <td>302</td>\n",
              "      <td>3</td>\n",
              "      <td>891717742</td>\n",
              "    </tr>\n",
              "    <tr>\n",
              "      <th>2</th>\n",
              "      <td>22</td>\n",
              "      <td>377</td>\n",
              "      <td>1</td>\n",
              "      <td>878887116</td>\n",
              "    </tr>\n",
              "    <tr>\n",
              "      <th>3</th>\n",
              "      <td>244</td>\n",
              "      <td>51</td>\n",
              "      <td>2</td>\n",
              "      <td>880606923</td>\n",
              "    </tr>\n",
              "    <tr>\n",
              "      <th>4</th>\n",
              "      <td>166</td>\n",
              "      <td>346</td>\n",
              "      <td>1</td>\n",
              "      <td>886397596</td>\n",
              "    </tr>\n",
              "    <tr>\n",
              "      <th>...</th>\n",
              "      <td>...</td>\n",
              "      <td>...</td>\n",
              "      <td>...</td>\n",
              "      <td>...</td>\n",
              "    </tr>\n",
              "    <tr>\n",
              "      <th>33328</th>\n",
              "      <td>194</td>\n",
              "      <td>159</td>\n",
              "      <td>3</td>\n",
              "      <td>879552401</td>\n",
              "    </tr>\n",
              "    <tr>\n",
              "      <th>33329</th>\n",
              "      <td>124</td>\n",
              "      <td>168</td>\n",
              "      <td>5</td>\n",
              "      <td>890287645</td>\n",
              "    </tr>\n",
              "    <tr>\n",
              "      <th>33330</th>\n",
              "      <td>364</td>\n",
              "      <td>319</td>\n",
              "      <td>3</td>\n",
              "      <td>875931309</td>\n",
              "    </tr>\n",
              "    <tr>\n",
              "      <th>33331</th>\n",
              "      <td>533</td>\n",
              "      <td>96</td>\n",
              "      <td>4</td>\n",
              "      <td>879438767</td>\n",
              "    </tr>\n",
              "    <tr>\n",
              "      <th>33332</th>\n",
              "      <td>158</td>\n",
              "      <td>221</td>\n",
              "      <td>2</td>\n",
              "      <td>880132421</td>\n",
              "    </tr>\n",
              "  </tbody>\n",
              "</table>\n",
              "<p>33333 rows × 4 columns</p>\n",
              "</div>"
            ],
            "text/plain": [
              "       user_id  item_id  rating  timestamp\n",
              "0          196      242       3  881250949\n",
              "1          186      302       3  891717742\n",
              "2           22      377       1  878887116\n",
              "3          244       51       2  880606923\n",
              "4          166      346       1  886397596\n",
              "...        ...      ...     ...        ...\n",
              "33328      194      159       3  879552401\n",
              "33329      124      168       5  890287645\n",
              "33330      364      319       3  875931309\n",
              "33331      533       96       4  879438767\n",
              "33332      158      221       2  880132421\n",
              "\n",
              "[33333 rows x 4 columns]"
            ]
          },
          "metadata": {
            "tags": []
          },
          "execution_count": 29
        }
      ]
    },
    {
      "cell_type": "code",
      "metadata": {
        "colab": {
          "base_uri": "https://localhost:8080/",
          "height": 419
        },
        "id": "uTMZAZ7GIYij",
        "outputId": "5ad7a2ef-7787-4389-c95d-756b57ab91ea"
      },
      "source": [
        "df2 = pd.read_csv(os.path.join(DATA_DIR, '2.data'), sep='\\t', header=None)\n",
        "df2.columns = ['user_id', 'item_id', 'rating', 'timestamp']\n",
        "#df = df.sort_values('timestamp').reset_index(drop=True)\n",
        "n_user2 = df2.user_id.nunique()\n",
        "n_item2 = df2.item_id.nunique()\n",
        "df2"
      ],
      "execution_count": 17,
      "outputs": [
        {
          "output_type": "execute_result",
          "data": {
            "text/html": [
              "<div>\n",
              "<style scoped>\n",
              "    .dataframe tbody tr th:only-of-type {\n",
              "        vertical-align: middle;\n",
              "    }\n",
              "\n",
              "    .dataframe tbody tr th {\n",
              "        vertical-align: top;\n",
              "    }\n",
              "\n",
              "    .dataframe thead th {\n",
              "        text-align: right;\n",
              "    }\n",
              "</style>\n",
              "<table border=\"1\" class=\"dataframe\">\n",
              "  <thead>\n",
              "    <tr style=\"text-align: right;\">\n",
              "      <th></th>\n",
              "      <th>user_id</th>\n",
              "      <th>item_id</th>\n",
              "      <th>rating</th>\n",
              "      <th>timestamp</th>\n",
              "    </tr>\n",
              "  </thead>\n",
              "  <tbody>\n",
              "    <tr>\n",
              "      <th>0</th>\n",
              "      <td>434</td>\n",
              "      <td>148</td>\n",
              "      <td>3</td>\n",
              "      <td>886724797</td>\n",
              "    </tr>\n",
              "    <tr>\n",
              "      <th>1</th>\n",
              "      <td>458</td>\n",
              "      <td>408</td>\n",
              "      <td>5</td>\n",
              "      <td>886396637</td>\n",
              "    </tr>\n",
              "    <tr>\n",
              "      <th>2</th>\n",
              "      <td>109</td>\n",
              "      <td>156</td>\n",
              "      <td>5</td>\n",
              "      <td>880573084</td>\n",
              "    </tr>\n",
              "    <tr>\n",
              "      <th>3</th>\n",
              "      <td>76</td>\n",
              "      <td>547</td>\n",
              "      <td>2</td>\n",
              "      <td>882607017</td>\n",
              "    </tr>\n",
              "    <tr>\n",
              "      <th>4</th>\n",
              "      <td>7</td>\n",
              "      <td>595</td>\n",
              "      <td>2</td>\n",
              "      <td>891353801</td>\n",
              "    </tr>\n",
              "    <tr>\n",
              "      <th>...</th>\n",
              "      <td>...</td>\n",
              "      <td>...</td>\n",
              "      <td>...</td>\n",
              "      <td>...</td>\n",
              "    </tr>\n",
              "    <tr>\n",
              "      <th>33328</th>\n",
              "      <td>698</td>\n",
              "      <td>1021</td>\n",
              "      <td>1</td>\n",
              "      <td>886367615</td>\n",
              "    </tr>\n",
              "    <tr>\n",
              "      <th>33329</th>\n",
              "      <td>871</td>\n",
              "      <td>335</td>\n",
              "      <td>3</td>\n",
              "      <td>888192475</td>\n",
              "    </tr>\n",
              "    <tr>\n",
              "      <th>33330</th>\n",
              "      <td>655</td>\n",
              "      <td>204</td>\n",
              "      <td>3</td>\n",
              "      <td>887477192</td>\n",
              "    </tr>\n",
              "    <tr>\n",
              "      <th>33331</th>\n",
              "      <td>674</td>\n",
              "      <td>742</td>\n",
              "      <td>5</td>\n",
              "      <td>887762714</td>\n",
              "    </tr>\n",
              "    <tr>\n",
              "      <th>33332</th>\n",
              "      <td>68</td>\n",
              "      <td>276</td>\n",
              "      <td>5</td>\n",
              "      <td>876973884</td>\n",
              "    </tr>\n",
              "  </tbody>\n",
              "</table>\n",
              "<p>33333 rows × 4 columns</p>\n",
              "</div>"
            ],
            "text/plain": [
              "       user_id  item_id  rating  timestamp\n",
              "0          434      148       3  886724797\n",
              "1          458      408       5  886396637\n",
              "2          109      156       5  880573084\n",
              "3           76      547       2  882607017\n",
              "4            7      595       2  891353801\n",
              "...        ...      ...     ...        ...\n",
              "33328      698     1021       1  886367615\n",
              "33329      871      335       3  888192475\n",
              "33330      655      204       3  887477192\n",
              "33331      674      742       5  887762714\n",
              "33332       68      276       5  876973884\n",
              "\n",
              "[33333 rows x 4 columns]"
            ]
          },
          "metadata": {
            "tags": []
          },
          "execution_count": 17
        }
      ]
    },
    {
      "cell_type": "code",
      "metadata": {
        "colab": {
          "base_uri": "https://localhost:8080/",
          "height": 419
        },
        "id": "urbZYz52IYsK",
        "outputId": "ded0d3ae-bb91-4f68-d949-9100d3daa71a"
      },
      "source": [
        "df3 = pd.read_csv(os.path.join(DATA_DIR, '3.data'), sep='\\t', header=None)\n",
        "df3.columns = ['user_id', 'item_id', 'rating', 'timestamp']\n",
        "#df = df.sort_values('timestamp').reset_index(drop=True)\n",
        "n_user3 = df3.user_id.nunique()\n",
        "n_item3 = df3.item_id.nunique()\n",
        "df3"
      ],
      "execution_count": 18,
      "outputs": [
        {
          "output_type": "execute_result",
          "data": {
            "text/html": [
              "<div>\n",
              "<style scoped>\n",
              "    .dataframe tbody tr th:only-of-type {\n",
              "        vertical-align: middle;\n",
              "    }\n",
              "\n",
              "    .dataframe tbody tr th {\n",
              "        vertical-align: top;\n",
              "    }\n",
              "\n",
              "    .dataframe thead th {\n",
              "        text-align: right;\n",
              "    }\n",
              "</style>\n",
              "<table border=\"1\" class=\"dataframe\">\n",
              "  <thead>\n",
              "    <tr style=\"text-align: right;\">\n",
              "      <th></th>\n",
              "      <th>user_id</th>\n",
              "      <th>item_id</th>\n",
              "      <th>rating</th>\n",
              "      <th>timestamp</th>\n",
              "    </tr>\n",
              "  </thead>\n",
              "  <tbody>\n",
              "    <tr>\n",
              "      <th>0</th>\n",
              "      <td>788</td>\n",
              "      <td>227</td>\n",
              "      <td>3</td>\n",
              "      <td>880867890</td>\n",
              "    </tr>\n",
              "    <tr>\n",
              "      <th>1</th>\n",
              "      <td>606</td>\n",
              "      <td>585</td>\n",
              "      <td>4</td>\n",
              "      <td>880927358</td>\n",
              "    </tr>\n",
              "    <tr>\n",
              "      <th>2</th>\n",
              "      <td>806</td>\n",
              "      <td>1074</td>\n",
              "      <td>3</td>\n",
              "      <td>882390515</td>\n",
              "    </tr>\n",
              "    <tr>\n",
              "      <th>3</th>\n",
              "      <td>334</td>\n",
              "      <td>129</td>\n",
              "      <td>4</td>\n",
              "      <td>891544735</td>\n",
              "    </tr>\n",
              "    <tr>\n",
              "      <th>4</th>\n",
              "      <td>828</td>\n",
              "      <td>270</td>\n",
              "      <td>5</td>\n",
              "      <td>891034148</td>\n",
              "    </tr>\n",
              "    <tr>\n",
              "      <th>...</th>\n",
              "      <td>...</td>\n",
              "      <td>...</td>\n",
              "      <td>...</td>\n",
              "      <td>...</td>\n",
              "    </tr>\n",
              "    <tr>\n",
              "      <th>33327</th>\n",
              "      <td>880</td>\n",
              "      <td>476</td>\n",
              "      <td>3</td>\n",
              "      <td>880175444</td>\n",
              "    </tr>\n",
              "    <tr>\n",
              "      <th>33328</th>\n",
              "      <td>716</td>\n",
              "      <td>204</td>\n",
              "      <td>5</td>\n",
              "      <td>879795543</td>\n",
              "    </tr>\n",
              "    <tr>\n",
              "      <th>33329</th>\n",
              "      <td>276</td>\n",
              "      <td>1090</td>\n",
              "      <td>1</td>\n",
              "      <td>874795795</td>\n",
              "    </tr>\n",
              "    <tr>\n",
              "      <th>33330</th>\n",
              "      <td>13</td>\n",
              "      <td>225</td>\n",
              "      <td>2</td>\n",
              "      <td>882399156</td>\n",
              "    </tr>\n",
              "    <tr>\n",
              "      <th>33331</th>\n",
              "      <td>12</td>\n",
              "      <td>203</td>\n",
              "      <td>3</td>\n",
              "      <td>879959583</td>\n",
              "    </tr>\n",
              "  </tbody>\n",
              "</table>\n",
              "<p>33332 rows × 4 columns</p>\n",
              "</div>"
            ],
            "text/plain": [
              "       user_id  item_id  rating  timestamp\n",
              "0          788      227       3  880867890\n",
              "1          606      585       4  880927358\n",
              "2          806     1074       3  882390515\n",
              "3          334      129       4  891544735\n",
              "4          828      270       5  891034148\n",
              "...        ...      ...     ...        ...\n",
              "33327      880      476       3  880175444\n",
              "33328      716      204       5  879795543\n",
              "33329      276     1090       1  874795795\n",
              "33330       13      225       2  882399156\n",
              "33331       12      203       3  879959583\n",
              "\n",
              "[33332 rows x 4 columns]"
            ]
          },
          "metadata": {
            "tags": []
          },
          "execution_count": 18
        }
      ]
    },
    {
      "cell_type": "code",
      "metadata": {
        "execution": {
          "iopub.execute_input": "2021-03-26T01:09:41.635605Z",
          "iopub.status.busy": "2021-03-26T01:09:41.634427Z",
          "iopub.status.idle": "2021-03-26T01:09:41.641855Z",
          "shell.execute_reply": "2021-03-26T01:09:41.642512Z"
        },
        "papermill": {
          "duration": 0.02551,
          "end_time": "2021-03-26T01:09:41.642701",
          "exception": false,
          "start_time": "2021-03-26T01:09:41.617191",
          "status": "completed"
        },
        "tags": [],
        "colab": {
          "base_uri": "https://localhost:8080/"
        },
        "id": "uPGG2MQedOLs",
        "outputId": "e4a40f9f-c8bd-493b-9f47-651fde24f5a2"
      },
      "source": [
        "print('user_num1', n_user1)\n",
        "print('item_num1', n_item1)\n",
        "print('user_num2', n_user2)\n",
        "print('item_num2', n_item2)\n",
        "print('user_num3', n_user3)\n",
        "print('item_num3', n_item3)"
      ],
      "execution_count": 20,
      "outputs": [
        {
          "output_type": "stream",
          "text": [
            "user_num1 943\n",
            "item_num1 1682\n",
            "user_num2 928\n",
            "item_num2 1509\n",
            "user_num3 941\n",
            "item_num3 1504\n"
          ],
          "name": "stdout"
        }
      ]
    },
    {
      "cell_type": "markdown",
      "metadata": {
        "papermill": {
          "duration": 0.013617,
          "end_time": "2021-03-26T01:09:41.670548",
          "exception": false,
          "start_time": "2021-03-26T01:09:41.656931",
          "status": "completed"
        },
        "tags": [],
        "id": "MYlR44asdOLt"
      },
      "source": [
        "# split data for cluster 1"
      ]
    },
    {
      "cell_type": "code",
      "metadata": {
        "execution": {
          "iopub.execute_input": "2021-03-26T01:09:41.707838Z",
          "iopub.status.busy": "2021-03-26T01:09:41.707104Z",
          "iopub.status.idle": "2021-03-26T01:09:41.831890Z",
          "shell.execute_reply": "2021-03-26T01:09:41.831105Z"
        },
        "papermill": {
          "duration": 0.146611,
          "end_time": "2021-03-26T01:09:41.832076",
          "exception": false,
          "start_time": "2021-03-26T01:09:41.685465",
          "status": "completed"
        },
        "tags": [],
        "colab": {
          "base_uri": "https://localhost:8080/"
        },
        "id": "N4Pm6Nt_dOLt",
        "outputId": "ae262d77-c988-4391-9847-7e07aa59f571"
      },
      "source": [
        "train_df, valid_df = train_test_split(df1, test_size=0.2, random_state=config.seed)\n",
        "# assert train_df.user_id.nunique() == valid_df.user_id.nunique()\n",
        "print(train_df.shape, valid_df.shape)\n",
        "#print(valid_df.user_id.nunique())"
      ],
      "execution_count": 33,
      "outputs": [
        {
          "output_type": "stream",
          "text": [
            "(26666, 4) (6667, 4)\n"
          ],
          "name": "stdout"
        }
      ]
    },
    {
      "cell_type": "code",
      "metadata": {
        "id": "c8nzDZvrPWSN"
      },
      "source": [
        "class MF:\n",
        "    \"\"\"\n",
        "    Matrix factorization class. \n",
        "    \"\"\"\n",
        "    def __init__(self,lmbda = 0.01, learning_rate=0.001,max_iteration=10000,rank=10,verbose=True,gap=None):\n",
        "        \"\"\"\n",
        "        params\n",
        "        ------\n",
        "        lmbda: float. Regularizer parameter.\n",
        "        \n",
        "        learning_rate: float. Step size or learning rate of SGD\n",
        "        \n",
        "        max_iteration: int. \n",
        "        \n",
        "        rank: int. Embedding dimension of the U,V matrix where A = U.V\n",
        "        \n",
        "        verbose: bool. Whether to print iteration log or not.\n",
        "        \n",
        "        gap: bool. \n",
        "            Gap between each iteration log when verbose is true. Default value is 10th factor of max_iteration.\n",
        "        \"\"\"\n",
        "        self.lmbda = lmbda\n",
        "        self.lr = learning_rate\n",
        "        self.max_iteration = max_iteration\n",
        "        self.rank = rank\n",
        "        self.verb = verbose\n",
        "        self.gap = gap\n",
        "        self.U = None\n",
        "        self.V = None\n",
        "        self.gap = (max_iteration / 10) if gap is None else gap\n",
        "        \n",
        "    def mse(self,truth, pred):\n",
        "        \"\"\"Returns the mse of nonzero errors\"\"\"\n",
        "        pred = pred[truth.nonzero()].flatten()\n",
        "        truth = truth[truth.nonzero()].flatten()\n",
        "        return mean_squared_error(truth, pred)\n",
        "\n",
        "    def graph(self,testset=False):\n",
        "        \"\"\"\n",
        "        Training and test graph with other meta data.\n",
        "        \"\"\"\n",
        "        fig, ax = plt.subplots(facecolor='white',figsize=(10,5))\n",
        "        train = [w[0] for w in self.history]\n",
        "        test = [w[1] for w in self.history]\n",
        "        x = list(range(0,self.max_iteration+2,int(self.gap)))\n",
        "        ax.plot(x,train,color='red',label='Train MSE')\n",
        "        if testset==True:\n",
        "            ax.plot(x,test,color='green',label='Test MSE')\n",
        "        ax.legend()\n",
        "        ax.grid(True)\n",
        "        ax.set_xlabel(\"Iteration\")\n",
        "        ax.set_ylabel(\"MSE\")\n",
        "        caption = f'lmbda: {lmb} lr: {self.lr} iteration: {self.max_iteration}'\n",
        "        plt.title(caption)\n",
        "        plt.show()\n",
        "\n",
        "    def predict(self,query_embedding,type='neighbour',name='Aladdin',measure='cosine'):\n",
        "        \"\"\"\n",
        "        params\n",
        "        ------\n",
        "        query_embedding: 1D array. \n",
        "            Query's embeddding vector. For example if we want to find similar movies like Aladdin,\n",
        "            query_embedding will be Aladdin's vector from V. \n",
        "        V: array-like. 2d. Item embedding.\n",
        "        type: {similar, suggest}. \n",
        "            Not in use now. for future functionality.\n",
        "        name: str. Movie name.\n",
        "        measure: {dot,cosine}\n",
        "            similarity measure for query and V. \n",
        "\n",
        "        returns\n",
        "        -------\n",
        "        sim_vector: similarity vector between query_embedding and V.\n",
        "        \"\"\"\n",
        "        \n",
        "        u = query_embedding\n",
        "        V = self.V\n",
        "        if measure == 'cosine':\n",
        "            V = V / np.linalg.norm(V, axis=1, keepdims=True)\n",
        "            u = u / np.linalg.norm(u)\n",
        "        sim_vector = u.dot(V.T)\n",
        "        return sim_vector\n",
        "\n",
        "    \n",
        "    def SGD(self,A,rated_rows,rated_cols,A_test=None):\n",
        "        \"\"\"\n",
        "        Stochastic Gradient Descent. \n",
        "        \n",
        "        params\n",
        "        ------\n",
        "        A: 2D array. shape(n_user,n_item)\n",
        "            Training rating matrix. \n",
        "        \n",
        "        rated_rows: 1D array.\n",
        "            Observed indices rows from A. Meaning i where A_{i,j} > 0.\n",
        "        \n",
        "        rated_cols: 1D array.\n",
        "            Observed indices' column from A. Meaning j where A_{i,j} > 0.\n",
        "            \n",
        "        A_test: Test A.\n",
        "            *optional.*\n",
        "            \n",
        "        returns\n",
        "        -------\n",
        "        none\n",
        "        \"\"\"\n",
        "        print(\"Master Yoda has started teaching...\")\n",
        "        self.history= []\n",
        "        for itr in range(self.max_iteration):\n",
        "            # choosing an observed user,item combination\n",
        "            u = np.random.choice(rated_rows)\n",
        "            i = np.random.choice(rated_cols)\n",
        "            #forward pass\n",
        "            error = A[u,i] - np.dot(self.U[u], self.V[i])  # check this line alone\n",
        "    #         cost = error**2 + lmbda * (np.linalg.norm(self.U[u])**2 + np.linalg.norm(self.V[i])**2)        \n",
        "            # backward pass\n",
        "            tmp = self.U[u]\n",
        "            self.U[u] = self.U[u] + self.lr * (error * self.V[i] - self.lmbda * self.U[u])\n",
        "            self.V[i] = self.V[i] + self.lr * (error * tmp - self.lmbda * self.V[i])\n",
        "            \n",
        "            if (itr % self.gap) == 0 or itr == self.max_iteration - 1:\n",
        "                A_hat = np.dot(self.U,self.V.T)\n",
        "                train_mse = self.mse(A,A_hat)\n",
        "                test_mse = -1\n",
        "                if isinstance(A_test,np.ndarray):\n",
        "                    test_mse = self.mse(A_test,A_hat)\n",
        "                self.history.append((train_mse,test_mse))\n",
        "                if self.verb==True:\n",
        "                    print(\"iteration %d, TrainMSE: %.2f TestMSE: %.2f\"%\n",
        "                          (itr,train_mse,test_mse))\n",
        "    \n",
        "    def fit(self,A,A_test=None):\n",
        "        \"\"\"\n",
        "        Fit the U,V to A.\n",
        "        \"\"\"\n",
        "        rated_rows,rated_cols = A.nonzero()\n",
        "        n_user = A.shape[0]\n",
        "        n_item = A.shape[1]\n",
        "        if self.U is None:\n",
        "            self.U = np.random.rand(n_user,self.rank)\n",
        "            self.V = np.random.rand(n_item,self.rank)\n",
        "        # used in verbose mode\n",
        "        self.SGD(A,rated_rows,rated_cols,A_test)"
      ],
      "execution_count": 40,
      "outputs": []
    },
    {
      "cell_type": "code",
      "metadata": {
        "id": "zAGhPsGMPt1O"
      },
      "source": [
        "def split(data):\n",
        "    \"\"\"\n",
        "    Splits 100k data between train and test set, and builts corresponding rating matrix, A for each set\n",
        "    \"\"\"\n",
        "    # n_user = data.userid.nunique()\n",
        "    # n_item = data.itemid.nunique()\n",
        "    train,test = train_test_split(data,test_size=0.3)\n",
        "    def fun1(x):\n",
        "        A_train[x[0],x[1]] = x[2]\n",
        "        return x\n",
        "    def fun2(x):\n",
        "        A_test[x[0],x[1]] = x[2]\n",
        "        return x\n",
        "    A_train = np.zeros((n_user,n_item))\n",
        "    A_test = np.zeros((n_user,n_item))\n",
        "    train.apply(fun1, axis=1)\n",
        "    test.apply(fun2,axis=1)\n",
        "    return A_train, A_test"
      ],
      "execution_count": 45,
      "outputs": []
    },
    {
      "cell_type": "code",
      "metadata": {
        "id": "8K76vlVtP14f"
      },
      "source": [
        "A_train,A_test = split(df1)"
      ],
      "execution_count": 46,
      "outputs": []
    },
    {
      "cell_type": "code",
      "metadata": {
        "colab": {
          "base_uri": "https://localhost:8080/",
          "height": 554
        },
        "id": "Tg4c17tcPWe6",
        "outputId": "bd1c0e0f-4e5a-41e3-b32a-02a2074db95d"
      },
      "source": [
        "import numpy as np\n",
        "import pandas as pd\n",
        "from sklearn.model_selection import train_test_split\n",
        "from sklearn.metrics import mean_squared_error\n",
        "from IPython import display\n",
        "import matplotlib.pyplot as plt\n",
        "\n",
        "lmb = 0.1\n",
        "lr = 0.001\n",
        "mx_itr = 36000\n",
        "gap = mx_itr / 10\n",
        "view = True\n",
        "\n",
        "model = MF(lmb,learning_rate=lr,max_iteration=mx_itr,rank=30,verbose=True)\n",
        "model.fit(A_train,A_test)\n",
        "model.graph(testset=True)"
      ],
      "execution_count": 51,
      "outputs": [
        {
          "output_type": "stream",
          "text": [
            "Master Yoda has started teaching...\n",
            "iteration 0, TrainMSE: 19.24 TestMSE: 19.49\n",
            "iteration 3600, TrainMSE: 12.67 TestMSE: 12.89\n",
            "iteration 7200, TrainMSE: 8.75 TestMSE: 8.92\n",
            "iteration 10800, TrainMSE: 6.38 TestMSE: 6.53\n",
            "iteration 14400, TrainMSE: 4.92 TestMSE: 5.05\n",
            "iteration 18000, TrainMSE: 4.06 TestMSE: 4.15\n",
            "iteration 21600, TrainMSE: 3.55 TestMSE: 3.63\n",
            "iteration 25200, TrainMSE: 3.28 TestMSE: 3.34\n",
            "iteration 28800, TrainMSE: 3.16 TestMSE: 3.21\n",
            "iteration 32400, TrainMSE: 3.14 TestMSE: 3.18\n",
            "iteration 35999, TrainMSE: 3.21 TestMSE: 3.23\n"
          ],
          "name": "stdout"
        },
        {
          "output_type": "display_data",
          "data": {
            "image/png": "[encoded data removed]",
            "text/plain": [
              "<Figure size 720x360 with 1 Axes>"
            ]
          },
          "metadata": {
            "tags": []
          }
        }
      ]
    },
    {
      "cell_type": "code",
      "metadata": {
        "id": "W-QsPJTMPWo9"
      },
      "source": [
        "def get_movie_suggestion(model,name='Aladdin'):\n",
        "    # might return multiple movies\n",
        "    movieids =  item[item['movie_title'].str.contains(name)].index.values\n",
        "    if len(movieids) == 0:\n",
        "        print('No movie found by that name. Remember, searching is case-sensitive')\n",
        "        return\n",
        "    print('Found ',len(movieids),'searching by: ',item.loc[movieids[0],'movie_title'])\n",
        "    query = model.V[movieids[0]] # a single movie embedding\n",
        "    sim_vector = model.predict(query)\n",
        "    item['similarity'] = sim_vector\n",
        "    top5 = item.sort_values(['similarity'],axis=0,inplace=False,ascending=False)[\n",
        "        ['itemid','movie_title','genre','similarity','IMDb_URL']\n",
        "    ].head()\n",
        "#     top5 = top5.append(item.loc[movieids[0],['itemid','movie_title','genre','similarity']])\n",
        "    display.display(top5)"
      ],
      "execution_count": 52,
      "outputs": []
    },
    {
      "cell_type": "code",
      "metadata": {
        "colab": {
          "base_uri": "https://localhost:8080/",
          "height": 221
        },
        "id": "kcwIFjpRQnMf",
        "outputId": "af869e10-94b4-4ca8-b7b5-6ef031db61d7"
      },
      "source": [
        "# data\n",
        "itemcol = [w.strip().replace(\" \",\"_\") for w in \"itemid | movie_title | release_date | video release date |IMDb URL | unknown | Action | Adventure | Animation |Children's | Comedy | Crime | Documentary | Drama | Fantasy |Film-Noir | Horror | Musical | Mystery | Romance | Sci-Fi |Thriller | War | Western |\".split('|')]\n",
        "itemcol.remove('')\n",
        "item = pd.read_csv(\"u.item\",delimiter='|',\n",
        "                   names=itemcol,encoding='latin_1')\n",
        "\n",
        "item['itemid'] = item['itemid'].apply(lambda x: x - 1)\n",
        "# Genre aggregate\n",
        "def genre(series):\n",
        "    genres = series.index[6:-2]\n",
        "    \n",
        "    text = []\n",
        "    for i in genres:\n",
        "        if series[i] == 1:\n",
        "            text.append(i)\n",
        "    return \", \".join(text)\n",
        "item['genre'] = item.apply(genre,axis=1)\n",
        "get_movie_suggestion(model,name='GoldenEye')"
      ],
      "execution_count": 57,
      "outputs": [
        {
          "output_type": "stream",
          "text": [
            "Found  1 searching by:  GoldenEye (1995)\n"
          ],
          "name": "stdout"
        },
        {
          "output_type": "display_data",
          "data": {
            "text/html": [
              "<div>\n",
              "<style scoped>\n",
              "    .dataframe tbody tr th:only-of-type {\n",
              "        vertical-align: middle;\n",
              "    }\n",
              "\n",
              "    .dataframe tbody tr th {\n",
              "        vertical-align: top;\n",
              "    }\n",
              "\n",
              "    .dataframe thead th {\n",
              "        text-align: right;\n",
              "    }\n",
              "</style>\n",
              "<table border=\"1\" class=\"dataframe\">\n",
              "  <thead>\n",
              "    <tr style=\"text-align: right;\">\n",
              "      <th></th>\n",
              "      <th>itemid</th>\n",
              "      <th>movie_title</th>\n",
              "      <th>genre</th>\n",
              "      <th>similarity</th>\n",
              "      <th>IMDb_URL</th>\n",
              "    </tr>\n",
              "  </thead>\n",
              "  <tbody>\n",
              "    <tr>\n",
              "      <th>1</th>\n",
              "      <td>1</td>\n",
              "      <td>GoldenEye (1995)</td>\n",
              "      <td>Action, Adventure, Thriller</td>\n",
              "      <td>1.000000</td>\n",
              "      <td>http://us.imdb.com/M/title-exact?GoldenEye%20(...</td>\n",
              "    </tr>\n",
              "    <tr>\n",
              "      <th>1268</th>\n",
              "      <td>1268</td>\n",
              "      <td>Love in the Afternoon (1957)</td>\n",
              "      <td>Comedy, Romance</td>\n",
              "      <td>0.800428</td>\n",
              "      <td>http://us.imdb.com/M/title-exact?Love%20in%20t...</td>\n",
              "    </tr>\n",
              "    <tr>\n",
              "      <th>1337</th>\n",
              "      <td>1337</td>\n",
              "      <td>Two Deaths (1995)</td>\n",
              "      <td>Drama</td>\n",
              "      <td>0.798305</td>\n",
              "      <td>http://us.imdb.com/Title?Two+Deaths+(1995)</td>\n",
              "    </tr>\n",
              "    <tr>\n",
              "      <th>502</th>\n",
              "      <td>502</td>\n",
              "      <td>Candidate, The (1972)</td>\n",
              "      <td>Drama</td>\n",
              "      <td>0.795550</td>\n",
              "      <td>http://us.imdb.com/M/title-exact?Candidate,%20...</td>\n",
              "    </tr>\n",
              "    <tr>\n",
              "      <th>1105</th>\n",
              "      <td>1105</td>\n",
              "      <td>Newton Boys, The (1998)</td>\n",
              "      <td>Crime, Drama</td>\n",
              "      <td>0.793771</td>\n",
              "      <td>http://us.imdb.com/Title?Newton+Boys,+The+(1998)</td>\n",
              "    </tr>\n",
              "  </tbody>\n",
              "</table>\n",
              "</div>"
            ],
            "text/plain": [
              "      itemid  ...                                           IMDb_URL\n",
              "1          1  ...  http://us.imdb.com/M/title-exact?GoldenEye%20(...\n",
              "1268    1268  ...  http://us.imdb.com/M/title-exact?Love%20in%20t...\n",
              "1337    1337  ...         http://us.imdb.com/Title?Two+Deaths+(1995)\n",
              "502      502  ...  http://us.imdb.com/M/title-exact?Candidate,%20...\n",
              "1105    1105  ...   http://us.imdb.com/Title?Newton+Boys,+The+(1998)\n",
              "\n",
              "[5 rows x 5 columns]"
            ]
          },
          "metadata": {
            "tags": []
          }
        }
      ]
    },
    {
      "cell_type": "markdown",
      "metadata": {
        "papermill": {
          "duration": 0.014128,
          "end_time": "2021-03-26T01:09:41.860423",
          "exception": false,
          "start_time": "2021-03-26T01:09:41.846295",
          "status": "completed"
        },
        "tags": [],
        "id": "v4CkBbdGdOLu"
      },
      "source": [
        "# Dataset"
      ]
    },
    {
      "cell_type": "code",
      "metadata": {
        "execution": {
          "iopub.execute_input": "2021-03-26T01:09:41.898503Z",
          "iopub.status.busy": "2021-03-26T01:09:41.897492Z",
          "iopub.status.idle": "2021-03-26T01:09:41.901437Z",
          "shell.execute_reply": "2021-03-26T01:09:41.900626Z"
        },
        "papermill": {
          "duration": 0.02706,
          "end_time": "2021-03-26T01:09:41.901610",
          "exception": false,
          "start_time": "2021-03-26T01:09:41.874550",
          "status": "completed"
        },
        "tags": [],
        "id": "J_QU3I2HdOLv"
      },
      "source": [
        "class MovieLensDataset(Dataset):\n",
        "    def __init__(self, df):\n",
        "        self.df = df\n",
        "\n",
        "    def __len__(self):\n",
        "        return len(self.df)\n",
        "\n",
        "    def __getitem__(self, idx):\n",
        "        user_id, item_id, rating, _ = self.df.iloc[idx]\n",
        "        # index starts with 0\n",
        "        sample = {\"user\": user_id - 1, \"item\": item_id - 1, \"rating\": rating}\n",
        "        return sample"
      ],
      "execution_count": 34,
      "outputs": []
    },
    {
      "cell_type": "markdown",
      "metadata": {
        "papermill": {
          "duration": 0.014285,
          "end_time": "2021-03-26T01:09:41.930232",
          "exception": false,
          "start_time": "2021-03-26T01:09:41.915947",
          "status": "completed"
        },
        "tags": [],
        "id": "lJw9EPt-dOLv"
      },
      "source": [
        "# model"
      ]
    },
    {
      "cell_type": "code",
      "metadata": {
        "execution": {
          "iopub.execute_input": "2021-03-26T01:09:41.968939Z",
          "iopub.status.busy": "2021-03-26T01:09:41.968138Z",
          "iopub.status.idle": "2021-03-26T01:09:41.972096Z",
          "shell.execute_reply": "2021-03-26T01:09:41.971388Z"
        },
        "papermill": {
          "duration": 0.027902,
          "end_time": "2021-03-26T01:09:41.972265",
          "exception": false,
          "start_time": "2021-03-26T01:09:41.944363",
          "status": "completed"
        },
        "tags": [],
        "id": "Bm0SsxURdOLw"
      },
      "source": [
        "class MatrixFactorizationPyTorch(nn.Module):\n",
        "    def __init__(self, n_user, n_item, k=20):\n",
        "        \"\"\"\n",
        "        n_user: user num\n",
        "        n_item: item num\n",
        "        k: embedding dim\n",
        "        \"\"\"\n",
        "        super().__init__()\n",
        "        self.user_factors = nn.Embedding(n_user, k, sparse=True)\n",
        "        self.item_factors = nn.Embedding(n_item, k, sparse=True)\n",
        "\n",
        "    def forward(self, user, item):\n",
        "        #print(user, item)\n",
        "        u_emb = self.user_factors(user)\n",
        "        i_emb = self.item_factors(item)\n",
        "        # print(u_emb.shape, i_emb.shape)\n",
        "        # print((u_emb * i_emb).shape)\n",
        "        # print((u_emb * i_emb).sum(axis=1).shape)\n",
        "        return (u_emb * i_emb).sum(axis=1)"
      ],
      "execution_count": 35,
      "outputs": []
    },
    {
      "cell_type": "code",
      "metadata": {
        "execution": {
          "iopub.execute_input": "2021-03-26T01:09:42.009996Z",
          "iopub.status.busy": "2021-03-26T01:09:42.009244Z",
          "iopub.status.idle": "2021-03-26T01:09:42.071280Z",
          "shell.execute_reply": "2021-03-26T01:09:42.070683Z"
        },
        "papermill": {
          "duration": 0.083443,
          "end_time": "2021-03-26T01:09:42.071447",
          "exception": false,
          "start_time": "2021-03-26T01:09:41.988004",
          "status": "completed"
        },
        "tags": [],
        "colab": {
          "base_uri": "https://localhost:8080/"
        },
        "id": "j1yJ9mstdOLw",
        "outputId": "a41f89bc-5acf-4765-b0d8-cd9da9ae9683"
      },
      "source": [
        "train_loader = DataLoader(MovieLensDataset(train_df), batch_size=2, shuffle=True,)\n",
        "next(iter(train_loader))"
      ],
      "execution_count": 36,
      "outputs": [
        {
          "output_type": "execute_result",
          "data": {
            "text/plain": [
              "{'item': tensor([944, 257]),\n",
              " 'rating': tensor([4, 4]),\n",
              " 'user': tensor([307,  23])}"
            ]
          },
          "metadata": {
            "tags": []
          },
          "execution_count": 36
        }
      ]
    },
    {
      "cell_type": "code",
      "metadata": {
        "execution": {
          "iopub.execute_input": "2021-03-26T01:09:42.109484Z",
          "iopub.status.busy": "2021-03-26T01:09:42.108533Z",
          "iopub.status.idle": "2021-03-26T01:09:42.186965Z",
          "shell.execute_reply": "2021-03-26T01:09:42.186233Z"
        },
        "papermill": {
          "duration": 0.100061,
          "end_time": "2021-03-26T01:09:42.187127",
          "exception": false,
          "start_time": "2021-03-26T01:09:42.087066",
          "status": "completed"
        },
        "tags": [],
        "colab": {
          "base_uri": "https://localhost:8080/"
        },
        "id": "AY0-EqqwdOLx",
        "outputId": "da1b764c-4fce-4c83-9e65-f61d94c75f41"
      },
      "source": [
        "data = next(iter(train_loader))\n",
        "user, item = data['user'], data['item']\n",
        "model = MatrixFactorizationPyTorch(n_user, n_item, k=config.embedding_dim)\n",
        "model(user, item)"
      ],
      "execution_count": 37,
      "outputs": [
        {
          "output_type": "execute_result",
          "data": {
            "text/plain": [
              "tensor([1.3618, 1.5302], grad_fn=<SumBackward1>)"
            ]
          },
          "metadata": {
            "tags": []
          },
          "execution_count": 37
        }
      ]
    },
    {
      "cell_type": "markdown",
      "metadata": {
        "papermill": {
          "duration": 0.015451,
          "end_time": "2021-03-26T01:09:42.217960",
          "exception": false,
          "start_time": "2021-03-26T01:09:42.202509",
          "status": "completed"
        },
        "tags": [],
        "id": "-AdKsuf6dOLx"
      },
      "source": [
        "# train"
      ]
    },
    {
      "cell_type": "code",
      "metadata": {
        "execution": {
          "iopub.execute_input": "2021-03-26T01:09:42.265433Z",
          "iopub.status.busy": "2021-03-26T01:09:42.259919Z",
          "iopub.status.idle": "2021-03-26T01:09:42.274993Z",
          "shell.execute_reply": "2021-03-26T01:09:42.274308Z"
        },
        "papermill": {
          "duration": 0.039578,
          "end_time": "2021-03-26T01:09:42.275159",
          "exception": false,
          "start_time": "2021-03-26T01:09:42.235581",
          "status": "completed"
        },
        "tags": [],
        "id": "6n9DOKkLdOLy"
      },
      "source": [
        "def train_one_epoch(epoch, model, loss_fn, optimizer,\n",
        "                    train_loader, device, scheduler=None):\n",
        "    model.train()\n",
        "    pbar = tqdm(enumerate(train_loader), total=len(train_loader))\n",
        "    data_cnt = 0\n",
        "    total_loss = 0.0\n",
        "\n",
        "    # 学習データをシャッフルしてループ\n",
        "    for step, data in pbar:\n",
        "        user = data['user']\n",
        "        item = data['item']\n",
        "        rating = data['rating']\n",
        "        data_cnt += user.shape[0]\n",
        "\n",
        "        # 勾配リセット\n",
        "        optimizer.zero_grad()\n",
        "\n",
        "        #順伝搬、逆伝搬\n",
        "        outputs = model(user, item)\n",
        "        #print('outupts', outputs)\n",
        "        #print(rating)\n",
        "        loss = loss_fn(outputs,  rating.float())\n",
        "        #print('loss', loss)\n",
        "        loss.backward()\n",
        "        optimizer.step()\n",
        "\n",
        "        total_loss += loss.item()\n",
        "        #print(total_loss)\n",
        "        if ((step + 1) % config.verbose_step == 0) or ((step + 1) == len(train_loader)):\n",
        "            description = f'train epoch {epoch} loss: {total_loss / data_cnt:.4f}'\n",
        "            pbar.set_description(description)\n",
        "\n",
        "    total_loss = total_loss / len(train_loader)\n",
        "    print('train loss = {:.4f}'.format(total_loss))\n",
        "\n",
        "def valid_one_epoch(epoch, model, loss_fn, val_loader, device):\n",
        "\n",
        "    model.eval()\n",
        "    total_loss = 0.0\n",
        "    data_cnt = 0\n",
        "    #preds = []\n",
        "    pbar = tqdm(enumerate(val_loader), total=len(val_loader))\n",
        "\n",
        "    for step, data in pbar:\n",
        "        user = data['user']\n",
        "        item = data['item']\n",
        "        rating = data['rating']\n",
        "        data_cnt += user.shape[0]\n",
        "\n",
        "        outputs = model(user, item)\n",
        "        loss = loss_fn(outputs, rating)\n",
        "        total_loss += loss\n",
        "        \n",
        "        # preds.append(outputs.detach().cpu().numpy())\n",
        "\n",
        "        if ((step + 1) % config.verbose_step == 0) or ((step + 1) == len(val_loader)):\n",
        "            description = f'val epoch {epoch} loss: {total_loss / data_cnt:.4f}'\n",
        "            pbar.set_description(description)\n",
        "        \n",
        "\n",
        "    valid_loss = total_loss / len(val_loader)\n",
        "    print('val loss = {:.4f}'.format(valid_loss))\n",
        "    return valid_loss \n",
        "\n",
        "def run_train(train_loader, valid_loader):\n",
        "    device = torch.device(config.device)\n",
        "    model = MatrixFactorizationPyTorch(n_user, n_item, k=config.embedding_dim)\n",
        "    loss_fn = nn.MSELoss()\n",
        "    optimizer = optim.SGD(model.parameters(), lr=config.lr)\n",
        "    best_loss=1e10\n",
        "    for epoch in range(config.epochs):\n",
        "        train_one_epoch(epoch, model, loss_fn, optimizer, train_loader, device)\n",
        "\n",
        "        with torch.no_grad():\n",
        "            val_loss = valid_one_epoch(epoch, model, loss_fn, valid_loader, device)\n",
        "        \n",
        "        if best_loss > val_loss:\n",
        "            best_loss = val_loss\n",
        "            best_rmse = torch.sqrt(best_loss)\n",
        "            best_epoch = epoch\n",
        "            # TODO: save model,  figure\n",
        "            best_path =  os.path.join(OUTPUT_DIR,f'best_model.bin')\n",
        "            torch.save({'model':model.state_dict(),},\n",
        "                           best_path)\n",
        "    print(f'----- result ------')\n",
        "    print(f'Best epoch: {epoch}')\n",
        "    print(f'Best loss: {best_loss}, RMSE: {best_rmse}')"
      ],
      "execution_count": 38,
      "outputs": []
    },
    {
      "cell_type": "code",
      "metadata": {
        "_kg_hide-output": true,
        "execution": {
          "iopub.execute_input": "2021-03-26T01:09:42.314171Z",
          "iopub.status.busy": "2021-03-26T01:09:42.313104Z",
          "iopub.status.idle": "2021-03-26T01:25:26.202614Z",
          "shell.execute_reply": "2021-03-26T01:25:26.202038Z"
        },
        "papermill": {
          "duration": 943.911865,
          "end_time": "2021-03-26T01:25:26.202790",
          "exception": false,
          "start_time": "2021-03-26T01:09:42.290925",
          "status": "completed"
        },
        "tags": [],
        "colab": {
          "base_uri": "https://localhost:8080/"
        },
        "id": "11xdjguCdOL0",
        "outputId": "90a93870-dd65-449f-c850-c035e324c0e4"
      },
      "source": [
        "train_loader = DataLoader(MovieLensDataset(train_df), batch_size=config.train_bs, shuffle=True,)\n",
        "valid_loader = DataLoader(MovieLensDataset(valid_df), batch_size=config.valid_bs, shuffle=False,)\n",
        "run_train(train_loader, valid_loader)"
      ],
      "execution_count": 39,
      "outputs": [
        {
          "output_type": "stream",
          "text": [
            "train epoch 0 loss: 3.5570: 100%|██████████| 3334/3334 [00:07<00:00, 466.82it/s]\n",
            "val epoch 0 loss: 3.2194:   8%|▊         | 66/834 [00:00<00:01, 651.85it/s]"
          ],
          "name": "stderr"
        },
        {
          "output_type": "stream",
          "text": [
            "train loss = 28.4497\n"
          ],
          "name": "stdout"
        },
        {
          "output_type": "stream",
          "text": [
            "val epoch 0 loss: 3.1587: 100%|██████████| 834/834 [00:01<00:00, 599.00it/s]\n",
            "  1%|▏         | 47/3334 [00:00<00:07, 463.73it/s]"
          ],
          "name": "stderr"
        },
        {
          "output_type": "stream",
          "text": [
            "val loss = 25.2508\n"
          ],
          "name": "stdout"
        },
        {
          "output_type": "stream",
          "text": [
            "train epoch 1 loss: 2.4513: 100%|██████████| 3334/3334 [00:07<00:00, 466.52it/s]\n",
            "val epoch 1 loss: 2.8111:   8%|▊         | 66/834 [00:00<00:01, 651.43it/s]"
          ],
          "name": "stderr"
        },
        {
          "output_type": "stream",
          "text": [
            "train loss = 19.6061\n"
          ],
          "name": "stdout"
        },
        {
          "output_type": "stream",
          "text": [
            "val epoch 1 loss: 2.7476: 100%|██████████| 834/834 [00:01<00:00, 608.32it/s]\n",
            "  1%|▏         | 50/3334 [00:00<00:06, 499.69it/s]"
          ],
          "name": "stderr"
        },
        {
          "output_type": "stream",
          "text": [
            "val loss = 21.9644\n"
          ],
          "name": "stdout"
        },
        {
          "output_type": "stream",
          "text": [
            "train epoch 2 loss: 1.9404: 100%|██████████| 3334/3334 [00:07<00:00, 465.12it/s]\n",
            "val epoch 2 loss: 2.5443:   8%|▊         | 63/834 [00:00<00:01, 625.87it/s]"
          ],
          "name": "stderr"
        },
        {
          "output_type": "stream",
          "text": [
            "train loss = 15.5193\n"
          ],
          "name": "stdout"
        },
        {
          "output_type": "stream",
          "text": [
            "val epoch 2 loss: 2.4811: 100%|██████████| 834/834 [00:01<00:00, 597.34it/s]\n",
            "  1%|▏         | 49/3334 [00:00<00:06, 478.53it/s]"
          ],
          "name": "stderr"
        },
        {
          "output_type": "stream",
          "text": [
            "val loss = 19.8336\n"
          ],
          "name": "stdout"
        },
        {
          "output_type": "stream",
          "text": [
            "train epoch 3 loss: 1.5822: 100%|██████████| 3334/3334 [00:07<00:00, 467.44it/s]\n",
            "val epoch 3 loss: 2.2871:   8%|▊         | 64/834 [00:00<00:01, 637.27it/s]"
          ],
          "name": "stderr"
        },
        {
          "output_type": "stream",
          "text": [
            "train loss = 12.6547\n"
          ],
          "name": "stdout"
        },
        {
          "output_type": "stream",
          "text": [
            "val epoch 3 loss: 2.2281: 100%|██████████| 834/834 [00:01<00:00, 615.75it/s]\n",
            "  1%|▏         | 50/3334 [00:00<00:06, 495.87it/s]"
          ],
          "name": "stderr"
        },
        {
          "output_type": "stream",
          "text": [
            "val loss = 17.8111\n"
          ],
          "name": "stdout"
        },
        {
          "output_type": "stream",
          "text": [
            "train epoch 4 loss: 1.2697: 100%|██████████| 3334/3334 [00:07<00:00, 469.09it/s]\n",
            "val epoch 4 loss: 2.0096:   8%|▊         | 65/834 [00:00<00:01, 645.41it/s]"
          ],
          "name": "stderr"
        },
        {
          "output_type": "stream",
          "text": [
            "train loss = 10.1551\n"
          ],
          "name": "stdout"
        },
        {
          "output_type": "stream",
          "text": [
            "val epoch 4 loss: 1.9634: 100%|██████████| 834/834 [00:01<00:00, 600.80it/s]\n",
            "  2%|▏         | 52/3334 [00:00<00:06, 511.59it/s]"
          ],
          "name": "stderr"
        },
        {
          "output_type": "stream",
          "text": [
            "val loss = 15.6955\n"
          ],
          "name": "stdout"
        },
        {
          "output_type": "stream",
          "text": [
            "train epoch 5 loss: 0.9985: 100%|██████████| 3334/3334 [00:07<00:00, 469.41it/s]\n",
            "val epoch 5 loss: 1.7437:   7%|▋         | 57/834 [00:00<00:01, 562.61it/s]"
          ],
          "name": "stderr"
        },
        {
          "output_type": "stream",
          "text": [
            "train loss = 7.9859\n"
          ],
          "name": "stdout"
        },
        {
          "output_type": "stream",
          "text": [
            "val epoch 5 loss: 1.7156: 100%|██████████| 834/834 [00:01<00:00, 597.93it/s]\n",
            "  2%|▏         | 51/3334 [00:00<00:06, 508.05it/s]"
          ],
          "name": "stderr"
        },
        {
          "output_type": "stream",
          "text": [
            "val loss = 13.7149\n"
          ],
          "name": "stdout"
        },
        {
          "output_type": "stream",
          "text": [
            "train epoch 6 loss: 0.7864: 100%|██████████| 3334/3334 [00:07<00:00, 467.29it/s]\n",
            "val epoch 6 loss: 1.5186:   8%|▊         | 70/834 [00:00<00:01, 695.93it/s]"
          ],
          "name": "stderr"
        },
        {
          "output_type": "stream",
          "text": [
            "train loss = 6.2895\n"
          ],
          "name": "stdout"
        },
        {
          "output_type": "stream",
          "text": [
            "val epoch 6 loss: 1.5117: 100%|██████████| 834/834 [00:01<00:00, 601.36it/s]\n",
            "  2%|▏         | 51/3334 [00:00<00:06, 503.92it/s]"
          ],
          "name": "stderr"
        },
        {
          "output_type": "stream",
          "text": [
            "val loss = 12.0842\n"
          ],
          "name": "stdout"
        },
        {
          "output_type": "stream",
          "text": [
            "train epoch 7 loss: 0.6320: 100%|██████████| 3334/3334 [00:07<00:00, 463.70it/s]\n",
            "val epoch 7 loss: 1.3401:   8%|▊         | 70/834 [00:00<00:01, 696.24it/s]"
          ],
          "name": "stderr"
        },
        {
          "output_type": "stream",
          "text": [
            "train loss = 5.0550\n"
          ],
          "name": "stdout"
        },
        {
          "output_type": "stream",
          "text": [
            "val epoch 7 loss: 1.3530: 100%|██████████| 834/834 [00:01<00:00, 624.42it/s]\n",
            "  2%|▏         | 53/3334 [00:00<00:06, 523.21it/s]"
          ],
          "name": "stderr"
        },
        {
          "output_type": "stream",
          "text": [
            "val loss = 10.8158\n"
          ],
          "name": "stdout"
        },
        {
          "output_type": "stream",
          "text": [
            "train epoch 8 loss: 0.5203: 100%|██████████| 3334/3334 [00:07<00:00, 466.28it/s]\n",
            "val epoch 8 loss: 1.1996:   7%|▋         | 62/834 [00:00<00:01, 605.84it/s]"
          ],
          "name": "stderr"
        },
        {
          "output_type": "stream",
          "text": [
            "train loss = 4.1614\n"
          ],
          "name": "stdout"
        },
        {
          "output_type": "stream",
          "text": [
            "val epoch 8 loss: 1.2297: 100%|██████████| 834/834 [00:01<00:00, 606.57it/s]\n",
            "  1%|▏         | 48/3334 [00:00<00:06, 474.28it/s]"
          ],
          "name": "stderr"
        },
        {
          "output_type": "stream",
          "text": [
            "val loss = 9.8304\n"
          ],
          "name": "stdout"
        },
        {
          "output_type": "stream",
          "text": [
            "train epoch 9 loss: 0.4383: 100%|██████████| 3334/3334 [00:07<00:00, 460.77it/s]\n",
            "val epoch 9 loss: 1.0894:   8%|▊         | 65/834 [00:00<00:01, 649.73it/s]"
          ],
          "name": "stderr"
        },
        {
          "output_type": "stream",
          "text": [
            "train loss = 3.5055\n"
          ],
          "name": "stdout"
        },
        {
          "output_type": "stream",
          "text": [
            "val epoch 9 loss: 1.1325: 100%|██████████| 834/834 [00:01<00:00, 606.23it/s]\n",
            "  2%|▏         | 51/3334 [00:00<00:06, 509.02it/s]"
          ],
          "name": "stderr"
        },
        {
          "output_type": "stream",
          "text": [
            "val loss = 9.0534\n"
          ],
          "name": "stdout"
        },
        {
          "output_type": "stream",
          "text": [
            "train epoch 10 loss: 0.3765: 100%|██████████| 3334/3334 [00:07<00:00, 464.55it/s]\n",
            "val epoch 10 loss: 1.0019:   8%|▊         | 68/834 [00:00<00:01, 673.76it/s]"
          ],
          "name": "stderr"
        },
        {
          "output_type": "stream",
          "text": [
            "train loss = 3.0111\n"
          ],
          "name": "stdout"
        },
        {
          "output_type": "stream",
          "text": [
            "val epoch 10 loss: 1.0550: 100%|██████████| 834/834 [00:01<00:00, 594.15it/s]\n",
            "  1%|▏         | 48/3334 [00:00<00:06, 477.83it/s]"
          ],
          "name": "stderr"
        },
        {
          "output_type": "stream",
          "text": [
            "val loss = 8.4337\n"
          ],
          "name": "stdout"
        },
        {
          "output_type": "stream",
          "text": [
            "train epoch 11 loss: 0.3288: 100%|██████████| 3334/3334 [00:07<00:00, 469.02it/s]\n",
            "val epoch 11 loss: 0.9319:   8%|▊         | 69/834 [00:00<00:01, 688.55it/s]"
          ],
          "name": "stderr"
        },
        {
          "output_type": "stream",
          "text": [
            "train loss = 2.6295\n"
          ],
          "name": "stdout"
        },
        {
          "output_type": "stream",
          "text": [
            "val epoch 11 loss: 0.9923: 100%|██████████| 834/834 [00:01<00:00, 613.69it/s]\n",
            "  1%|▏         | 44/3334 [00:00<00:07, 436.11it/s]"
          ],
          "name": "stderr"
        },
        {
          "output_type": "stream",
          "text": [
            "val loss = 7.9325\n"
          ],
          "name": "stdout"
        },
        {
          "output_type": "stream",
          "text": [
            "train epoch 12 loss: 0.2912: 100%|██████████| 3334/3334 [00:07<00:00, 455.08it/s]\n",
            "val epoch 12 loss: 0.8747:   7%|▋         | 61/834 [00:00<00:01, 601.71it/s]"
          ],
          "name": "stderr"
        },
        {
          "output_type": "stream",
          "text": [
            "train loss = 2.3292\n"
          ],
          "name": "stdout"
        },
        {
          "output_type": "stream",
          "text": [
            "val epoch 12 loss: 0.9403: 100%|██████████| 834/834 [00:01<00:00, 556.93it/s]\n",
            "  1%|▏         | 43/3334 [00:00<00:07, 422.07it/s]"
          ],
          "name": "stderr"
        },
        {
          "output_type": "stream",
          "text": [
            "val loss = 7.5171\n"
          ],
          "name": "stdout"
        },
        {
          "output_type": "stream",
          "text": [
            "train epoch 13 loss: 0.2611: 100%|██████████| 3334/3334 [00:07<00:00, 455.81it/s]\n",
            "val epoch 13 loss: 0.8280:   7%|▋         | 62/834 [00:00<00:01, 613.63it/s]"
          ],
          "name": "stderr"
        },
        {
          "output_type": "stream",
          "text": [
            "train loss = 2.0882\n"
          ],
          "name": "stdout"
        },
        {
          "output_type": "stream",
          "text": [
            "val epoch 13 loss: 0.8967: 100%|██████████| 834/834 [00:01<00:00, 597.52it/s]\n",
            "  1%|▏         | 50/3334 [00:00<00:06, 490.83it/s]"
          ],
          "name": "stderr"
        },
        {
          "output_type": "stream",
          "text": [
            "val loss = 7.1680\n"
          ],
          "name": "stdout"
        },
        {
          "output_type": "stream",
          "text": [
            "train epoch 14 loss: 0.2365: 100%|██████████| 3334/3334 [00:07<00:00, 459.82it/s]\n",
            "val epoch 14 loss: 0.7879:   8%|▊         | 65/834 [00:00<00:01, 645.62it/s]"
          ],
          "name": "stderr"
        },
        {
          "output_type": "stream",
          "text": [
            "train loss = 1.8917\n"
          ],
          "name": "stdout"
        },
        {
          "output_type": "stream",
          "text": [
            "val epoch 14 loss: 0.8598: 100%|██████████| 834/834 [00:01<00:00, 594.92it/s]\n",
            "  1%|▏         | 49/3334 [00:00<00:06, 485.23it/s]"
          ],
          "name": "stderr"
        },
        {
          "output_type": "stream",
          "text": [
            "val loss = 6.8734\n"
          ],
          "name": "stdout"
        },
        {
          "output_type": "stream",
          "text": [
            "train epoch 15 loss: 0.2163: 100%|██████████| 3334/3334 [00:07<00:00, 462.29it/s]\n",
            "val epoch 15 loss: 0.7540:   8%|▊         | 69/834 [00:00<00:01, 682.47it/s]"
          ],
          "name": "stderr"
        },
        {
          "output_type": "stream",
          "text": [
            "train loss = 1.7297\n"
          ],
          "name": "stdout"
        },
        {
          "output_type": "stream",
          "text": [
            "val epoch 15 loss: 0.8277: 100%|██████████| 834/834 [00:01<00:00, 604.03it/s]\n",
            "  1%|▏         | 50/3334 [00:00<00:06, 490.81it/s]"
          ],
          "name": "stderr"
        },
        {
          "output_type": "stream",
          "text": [
            "val loss = 6.6164\n"
          ],
          "name": "stdout"
        },
        {
          "output_type": "stream",
          "text": [
            "train epoch 16 loss: 0.1993: 100%|██████████| 3334/3334 [00:07<00:00, 461.11it/s]\n",
            "val epoch 16 loss: 0.7258:   7%|▋         | 56/834 [00:00<00:01, 555.26it/s]"
          ],
          "name": "stderr"
        },
        {
          "output_type": "stream",
          "text": [
            "train loss = 1.5940\n"
          ],
          "name": "stdout"
        },
        {
          "output_type": "stream",
          "text": [
            "val epoch 16 loss: 0.8003: 100%|██████████| 834/834 [00:01<00:00, 608.22it/s]\n",
            "  1%|▏         | 46/3334 [00:00<00:07, 452.93it/s]"
          ],
          "name": "stderr"
        },
        {
          "output_type": "stream",
          "text": [
            "val loss = 6.3979\n"
          ],
          "name": "stdout"
        },
        {
          "output_type": "stream",
          "text": [
            "train epoch 17 loss: 0.1850: 100%|██████████| 3334/3334 [00:07<00:00, 457.90it/s]\n",
            "val epoch 17 loss: 0.7010:   8%|▊         | 64/834 [00:00<00:01, 638.36it/s]"
          ],
          "name": "stderr"
        },
        {
          "output_type": "stream",
          "text": [
            "train loss = 1.4796\n"
          ],
          "name": "stdout"
        },
        {
          "output_type": "stream",
          "text": [
            "val epoch 17 loss: 0.7763: 100%|██████████| 834/834 [00:01<00:00, 600.47it/s]\n",
            "  1%|▏         | 48/3334 [00:00<00:06, 475.99it/s]"
          ],
          "name": "stderr"
        },
        {
          "output_type": "stream",
          "text": [
            "val loss = 6.2056\n"
          ],
          "name": "stdout"
        },
        {
          "output_type": "stream",
          "text": [
            "train epoch 18 loss: 0.1727: 100%|██████████| 3334/3334 [00:07<00:00, 466.50it/s]\n",
            "val epoch 18 loss: 0.6795:   7%|▋         | 60/834 [00:00<00:01, 591.82it/s]"
          ],
          "name": "stderr"
        },
        {
          "output_type": "stream",
          "text": [
            "train loss = 1.3815\n"
          ],
          "name": "stdout"
        },
        {
          "output_type": "stream",
          "text": [
            "val epoch 18 loss: 0.7554: 100%|██████████| 834/834 [00:01<00:00, 594.32it/s]\n",
            "  1%|▏         | 43/3334 [00:00<00:07, 421.50it/s]"
          ],
          "name": "stderr"
        },
        {
          "output_type": "stream",
          "text": [
            "val loss = 6.0385\n"
          ],
          "name": "stdout"
        },
        {
          "output_type": "stream",
          "text": [
            "train epoch 19 loss: 0.1623: 100%|██████████| 3334/3334 [00:07<00:00, 466.72it/s]\n",
            "val epoch 19 loss: 0.6608:   8%|▊         | 69/834 [00:00<00:01, 666.86it/s]"
          ],
          "name": "stderr"
        },
        {
          "output_type": "stream",
          "text": [
            "train loss = 1.2978\n"
          ],
          "name": "stdout"
        },
        {
          "output_type": "stream",
          "text": [
            "val epoch 19 loss: 0.7367: 100%|██████████| 834/834 [00:01<00:00, 610.22it/s]\n",
            "  1%|▏         | 49/3334 [00:00<00:06, 484.16it/s]"
          ],
          "name": "stderr"
        },
        {
          "output_type": "stream",
          "text": [
            "val loss = 5.8890\n"
          ],
          "name": "stdout"
        },
        {
          "output_type": "stream",
          "text": [
            "train epoch 20 loss: 0.1531: 100%|██████████| 3334/3334 [00:07<00:00, 458.63it/s]\n",
            "val epoch 20 loss: 0.6445:   8%|▊         | 63/834 [00:00<00:01, 622.72it/s]"
          ],
          "name": "stderr"
        },
        {
          "output_type": "stream",
          "text": [
            "train loss = 1.2242\n"
          ],
          "name": "stdout"
        },
        {
          "output_type": "stream",
          "text": [
            "val epoch 20 loss: 0.7201: 100%|██████████| 834/834 [00:01<00:00, 603.26it/s]\n",
            "  1%|▏         | 43/3334 [00:00<00:07, 427.99it/s]"
          ],
          "name": "stderr"
        },
        {
          "output_type": "stream",
          "text": [
            "val loss = 5.7568\n"
          ],
          "name": "stdout"
        },
        {
          "output_type": "stream",
          "text": [
            "train epoch 21 loss: 0.1451: 100%|██████████| 3334/3334 [00:07<00:00, 459.29it/s]\n",
            "val epoch 21 loss: 0.6301:   8%|▊         | 67/834 [00:00<00:01, 663.50it/s]"
          ],
          "name": "stderr"
        },
        {
          "output_type": "stream",
          "text": [
            "train loss = 1.1607\n"
          ],
          "name": "stdout"
        },
        {
          "output_type": "stream",
          "text": [
            "val epoch 21 loss: 0.7054: 100%|██████████| 834/834 [00:01<00:00, 609.56it/s]\n",
            "  2%|▏         | 51/3334 [00:00<00:06, 507.15it/s]"
          ],
          "name": "stderr"
        },
        {
          "output_type": "stream",
          "text": [
            "val loss = 5.6389\n"
          ],
          "name": "stdout"
        },
        {
          "output_type": "stream",
          "text": [
            "train epoch 22 loss: 0.1381: 100%|██████████| 3334/3334 [00:07<00:00, 456.20it/s]\n",
            "val epoch 22 loss: 0.6170:   7%|▋         | 60/834 [00:00<00:01, 597.09it/s]"
          ],
          "name": "stderr"
        },
        {
          "output_type": "stream",
          "text": [
            "train loss = 1.1043\n"
          ],
          "name": "stdout"
        },
        {
          "output_type": "stream",
          "text": [
            "val epoch 22 loss: 0.6921: 100%|██████████| 834/834 [00:01<00:00, 599.61it/s]\n",
            "  1%|▏         | 49/3334 [00:00<00:06, 488.67it/s]"
          ],
          "name": "stderr"
        },
        {
          "output_type": "stream",
          "text": [
            "val loss = 5.5323\n"
          ],
          "name": "stdout"
        },
        {
          "output_type": "stream",
          "text": [
            "train epoch 23 loss: 0.1319: 100%|██████████| 3334/3334 [00:07<00:00, 459.60it/s]\n",
            "val epoch 23 loss: 0.6055:   8%|▊         | 69/834 [00:00<00:01, 685.48it/s]"
          ],
          "name": "stderr"
        },
        {
          "output_type": "stream",
          "text": [
            "train loss = 1.0546\n"
          ],
          "name": "stdout"
        },
        {
          "output_type": "stream",
          "text": [
            "val epoch 23 loss: 0.6799: 100%|██████████| 834/834 [00:01<00:00, 614.29it/s]\n",
            "  1%|▏         | 48/3334 [00:00<00:06, 475.85it/s]"
          ],
          "name": "stderr"
        },
        {
          "output_type": "stream",
          "text": [
            "val loss = 5.4354\n"
          ],
          "name": "stdout"
        },
        {
          "output_type": "stream",
          "text": [
            "train epoch 24 loss: 0.1263: 100%|██████████| 3334/3334 [00:07<00:00, 461.64it/s]\n",
            "val epoch 24 loss: 0.5945:   7%|▋         | 55/834 [00:00<00:01, 547.09it/s]"
          ],
          "name": "stderr"
        },
        {
          "output_type": "stream",
          "text": [
            "train loss = 1.0103\n"
          ],
          "name": "stdout"
        },
        {
          "output_type": "stream",
          "text": [
            "val epoch 24 loss: 0.6688: 100%|██████████| 834/834 [00:01<00:00, 604.18it/s]\n",
            "  1%|▏         | 46/3334 [00:00<00:07, 458.19it/s]"
          ],
          "name": "stderr"
        },
        {
          "output_type": "stream",
          "text": [
            "val loss = 5.3464\n"
          ],
          "name": "stdout"
        },
        {
          "output_type": "stream",
          "text": [
            "train epoch 25 loss: 0.1214: 100%|██████████| 3334/3334 [00:07<00:00, 460.63it/s]\n",
            "val epoch 25 loss: 0.5854:   8%|▊         | 63/834 [00:00<00:01, 627.38it/s]"
          ],
          "name": "stderr"
        },
        {
          "output_type": "stream",
          "text": [
            "train loss = 0.9708\n"
          ],
          "name": "stdout"
        },
        {
          "output_type": "stream",
          "text": [
            "val epoch 25 loss: 0.6588: 100%|██████████| 834/834 [00:01<00:00, 601.30it/s]\n",
            "  1%|▏         | 47/3334 [00:00<00:07, 462.79it/s]"
          ],
          "name": "stderr"
        },
        {
          "output_type": "stream",
          "text": [
            "val loss = 5.2663\n"
          ],
          "name": "stdout"
        },
        {
          "output_type": "stream",
          "text": [
            "train epoch 26 loss: 0.1169: 100%|██████████| 3334/3334 [00:07<00:00, 462.69it/s]\n",
            "val epoch 26 loss: 0.5769:   6%|▋         | 54/834 [00:00<00:01, 535.83it/s]"
          ],
          "name": "stderr"
        },
        {
          "output_type": "stream",
          "text": [
            "train loss = 0.9353\n"
          ],
          "name": "stdout"
        },
        {
          "output_type": "stream",
          "text": [
            "val epoch 26 loss: 0.6497: 100%|██████████| 834/834 [00:01<00:00, 603.44it/s]\n",
            "  1%|▏         | 47/3334 [00:00<00:07, 466.54it/s]"
          ],
          "name": "stderr"
        },
        {
          "output_type": "stream",
          "text": [
            "val loss = 5.1934\n"
          ],
          "name": "stdout"
        },
        {
          "output_type": "stream",
          "text": [
            "train epoch 27 loss: 0.1129: 100%|██████████| 3334/3334 [00:07<00:00, 464.36it/s]\n",
            "val epoch 27 loss: 0.5689:   8%|▊         | 66/834 [00:00<00:01, 651.57it/s]"
          ],
          "name": "stderr"
        },
        {
          "output_type": "stream",
          "text": [
            "train loss = 0.9029\n"
          ],
          "name": "stdout"
        },
        {
          "output_type": "stream",
          "text": [
            "val epoch 27 loss: 0.6411: 100%|██████████| 834/834 [00:01<00:00, 606.22it/s]\n",
            "  1%|▏         | 44/3334 [00:00<00:07, 431.56it/s]"
          ],
          "name": "stderr"
        },
        {
          "output_type": "stream",
          "text": [
            "val loss = 5.1252\n"
          ],
          "name": "stdout"
        },
        {
          "output_type": "stream",
          "text": [
            "train epoch 28 loss: 0.1093: 100%|██████████| 3334/3334 [00:07<00:00, 458.22it/s]\n",
            "val epoch 28 loss: 0.5616:   8%|▊         | 64/834 [00:00<00:01, 631.24it/s]"
          ],
          "name": "stderr"
        },
        {
          "output_type": "stream",
          "text": [
            "train loss = 0.8738\n"
          ],
          "name": "stdout"
        },
        {
          "output_type": "stream",
          "text": [
            "val epoch 28 loss: 0.6333: 100%|██████████| 834/834 [00:01<00:00, 600.23it/s]\n",
            "  2%|▏         | 52/3334 [00:00<00:06, 514.06it/s]"
          ],
          "name": "stderr"
        },
        {
          "output_type": "stream",
          "text": [
            "val loss = 5.0627\n"
          ],
          "name": "stdout"
        },
        {
          "output_type": "stream",
          "text": [
            "train epoch 29 loss: 0.1060: 100%|██████████| 3334/3334 [00:07<00:00, 460.15it/s]\n",
            "val epoch 29 loss: 0.5551:   8%|▊         | 68/834 [00:00<00:01, 671.50it/s]"
          ],
          "name": "stderr"
        },
        {
          "output_type": "stream",
          "text": [
            "train loss = 0.8476\n"
          ],
          "name": "stdout"
        },
        {
          "output_type": "stream",
          "text": [
            "val epoch 29 loss: 0.6263: 100%|██████████| 834/834 [00:01<00:00, 600.73it/s]\n",
            "  1%|▏         | 50/3334 [00:00<00:06, 491.78it/s]"
          ],
          "name": "stderr"
        },
        {
          "output_type": "stream",
          "text": [
            "val loss = 5.0064\n"
          ],
          "name": "stdout"
        },
        {
          "output_type": "stream",
          "text": [
            "train epoch 30 loss: 0.1029: 100%|██████████| 3334/3334 [00:07<00:00, 458.43it/s]\n",
            "val epoch 30 loss: 0.5492:   7%|▋         | 60/834 [00:00<00:01, 599.02it/s]"
          ],
          "name": "stderr"
        },
        {
          "output_type": "stream",
          "text": [
            "train loss = 0.8229\n"
          ],
          "name": "stdout"
        },
        {
          "output_type": "stream",
          "text": [
            "val epoch 30 loss: 0.6197: 100%|██████████| 834/834 [00:01<00:00, 606.20it/s]\n",
            "  2%|▏         | 52/3334 [00:00<00:06, 513.23it/s]"
          ],
          "name": "stderr"
        },
        {
          "output_type": "stream",
          "text": [
            "val loss = 4.9542\n"
          ],
          "name": "stdout"
        },
        {
          "output_type": "stream",
          "text": [
            "train epoch 31 loss: 0.1001: 100%|██████████| 3334/3334 [00:07<00:00, 447.85it/s]\n",
            "val epoch 31 loss: 0.5433:   8%|▊         | 65/834 [00:00<00:01, 649.67it/s]"
          ],
          "name": "stderr"
        },
        {
          "output_type": "stream",
          "text": [
            "train loss = 0.8006\n"
          ],
          "name": "stdout"
        },
        {
          "output_type": "stream",
          "text": [
            "val epoch 31 loss: 0.6137: 100%|██████████| 834/834 [00:01<00:00, 573.75it/s]\n",
            "  1%|▏         | 48/3334 [00:00<00:06, 476.63it/s]"
          ],
          "name": "stderr"
        },
        {
          "output_type": "stream",
          "text": [
            "val loss = 4.9057\n"
          ],
          "name": "stdout"
        },
        {
          "output_type": "stream",
          "text": [
            "train epoch 32 loss: 0.0975: 100%|██████████| 3334/3334 [00:07<00:00, 442.70it/s]\n",
            "val epoch 32 loss: 0.5377:   8%|▊         | 66/834 [00:00<00:01, 652.00it/s]"
          ],
          "name": "stderr"
        },
        {
          "output_type": "stream",
          "text": [
            "train loss = 0.7802\n"
          ],
          "name": "stdout"
        },
        {
          "output_type": "stream",
          "text": [
            "val epoch 32 loss: 0.6077: 100%|██████████| 834/834 [00:01<00:00, 600.87it/s]\n",
            "  1%|▏         | 46/3334 [00:00<00:07, 454.72it/s]"
          ],
          "name": "stderr"
        },
        {
          "output_type": "stream",
          "text": [
            "val loss = 4.8581\n"
          ],
          "name": "stdout"
        },
        {
          "output_type": "stream",
          "text": [
            "train epoch 33 loss: 0.0952: 100%|██████████| 3334/3334 [00:07<00:00, 455.37it/s]\n",
            "val epoch 33 loss: 0.5332:   8%|▊         | 63/834 [00:00<00:01, 622.99it/s]"
          ],
          "name": "stderr"
        },
        {
          "output_type": "stream",
          "text": [
            "train loss = 0.7617\n"
          ],
          "name": "stdout"
        },
        {
          "output_type": "stream",
          "text": [
            "val epoch 33 loss: 0.6025: 100%|██████████| 834/834 [00:01<00:00, 600.28it/s]\n",
            "  1%|▏         | 46/3334 [00:00<00:07, 455.16it/s]"
          ],
          "name": "stderr"
        },
        {
          "output_type": "stream",
          "text": [
            "val loss = 4.8166\n"
          ],
          "name": "stdout"
        },
        {
          "output_type": "stream",
          "text": [
            "train epoch 34 loss: 0.0930: 100%|██████████| 3334/3334 [00:07<00:00, 456.12it/s]\n",
            "val epoch 34 loss: 0.5289:   8%|▊         | 66/834 [00:00<00:01, 649.85it/s]"
          ],
          "name": "stderr"
        },
        {
          "output_type": "stream",
          "text": [
            "train loss = 0.7437\n"
          ],
          "name": "stdout"
        },
        {
          "output_type": "stream",
          "text": [
            "val epoch 34 loss: 0.5976: 100%|██████████| 834/834 [00:01<00:00, 593.04it/s]\n",
            "  1%|          | 39/3334 [00:00<00:08, 385.41it/s]"
          ],
          "name": "stderr"
        },
        {
          "output_type": "stream",
          "text": [
            "val loss = 4.7770\n"
          ],
          "name": "stdout"
        },
        {
          "output_type": "stream",
          "text": [
            "train epoch 35 loss: 0.0910: 100%|██████████| 3334/3334 [00:07<00:00, 457.55it/s]\n",
            "val epoch 35 loss: 0.5242:   8%|▊         | 69/834 [00:00<00:01, 685.45it/s]"
          ],
          "name": "stderr"
        },
        {
          "output_type": "stream",
          "text": [
            "train loss = 0.7275\n"
          ],
          "name": "stdout"
        },
        {
          "output_type": "stream",
          "text": [
            "val epoch 35 loss: 0.5929: 100%|██████████| 834/834 [00:01<00:00, 618.79it/s]\n",
            "  1%|▏         | 46/3334 [00:00<00:07, 455.87it/s]"
          ],
          "name": "stderr"
        },
        {
          "output_type": "stream",
          "text": [
            "val loss = 4.7396\n"
          ],
          "name": "stdout"
        },
        {
          "output_type": "stream",
          "text": [
            "train epoch 36 loss: 0.0891: 100%|██████████| 3334/3334 [00:07<00:00, 453.53it/s]\n",
            "val epoch 36 loss: 0.5205:   6%|▌         | 47/834 [00:00<00:01, 463.60it/s]"
          ],
          "name": "stderr"
        },
        {
          "output_type": "stream",
          "text": [
            "train loss = 0.7124\n"
          ],
          "name": "stdout"
        },
        {
          "output_type": "stream",
          "text": [
            "val epoch 36 loss: 0.5886: 100%|██████████| 834/834 [00:01<00:00, 588.66it/s]\n",
            "  1%|▏         | 47/3334 [00:00<00:07, 464.06it/s]"
          ],
          "name": "stderr"
        },
        {
          "output_type": "stream",
          "text": [
            "val loss = 4.7053\n"
          ],
          "name": "stdout"
        },
        {
          "output_type": "stream",
          "text": [
            "train epoch 37 loss: 0.0873: 100%|██████████| 3334/3334 [00:07<00:00, 454.76it/s]\n",
            "val epoch 37 loss: 0.5167:   7%|▋         | 61/834 [00:00<00:01, 607.89it/s]"
          ],
          "name": "stderr"
        },
        {
          "output_type": "stream",
          "text": [
            "train loss = 0.6982\n"
          ],
          "name": "stdout"
        },
        {
          "output_type": "stream",
          "text": [
            "val epoch 37 loss: 0.5845: 100%|██████████| 834/834 [00:01<00:00, 593.57it/s]\n",
            "  1%|▏         | 46/3334 [00:00<00:07, 457.06it/s]"
          ],
          "name": "stderr"
        },
        {
          "output_type": "stream",
          "text": [
            "val loss = 4.6724\n"
          ],
          "name": "stdout"
        },
        {
          "output_type": "stream",
          "text": [
            "train epoch 38 loss: 0.0856: 100%|██████████| 3334/3334 [00:07<00:00, 459.08it/s]\n",
            "val epoch 38 loss: 0.5134:   8%|▊         | 64/834 [00:00<00:01, 639.47it/s]"
          ],
          "name": "stderr"
        },
        {
          "output_type": "stream",
          "text": [
            "train loss = 0.6849\n"
          ],
          "name": "stdout"
        },
        {
          "output_type": "stream",
          "text": [
            "val epoch 38 loss: 0.5807: 100%|██████████| 834/834 [00:01<00:00, 605.57it/s]\n",
            "  2%|▏         | 52/3334 [00:00<00:06, 510.92it/s]"
          ],
          "name": "stderr"
        },
        {
          "output_type": "stream",
          "text": [
            "val loss = 4.6419\n"
          ],
          "name": "stdout"
        },
        {
          "output_type": "stream",
          "text": [
            "train epoch 39 loss: 0.0841: 100%|██████████| 3334/3334 [00:07<00:00, 460.52it/s]\n",
            "val epoch 39 loss: 0.5100:   8%|▊         | 67/834 [00:00<00:01, 664.09it/s]"
          ],
          "name": "stderr"
        },
        {
          "output_type": "stream",
          "text": [
            "train loss = 0.6723\n"
          ],
          "name": "stdout"
        },
        {
          "output_type": "stream",
          "text": [
            "val epoch 39 loss: 0.5770: 100%|██████████| 834/834 [00:01<00:00, 605.23it/s]"
          ],
          "name": "stderr"
        },
        {
          "output_type": "stream",
          "text": [
            "val loss = 4.6123\n",
            "----- result ------\n",
            "Best epoch: 39\n",
            "Best loss: 4.612277030944824, RMSE: 2.1476211547851562\n"
          ],
          "name": "stdout"
        },
        {
          "output_type": "stream",
          "text": [
            "\n"
          ],
          "name": "stderr"
        }
      ]
    },
    {
      "cell_type": "markdown",
      "metadata": {
        "papermill": {
          "duration": 4.416231,
          "end_time": "2021-03-26T01:25:35.148123",
          "exception": false,
          "start_time": "2021-03-26T01:25:30.731892",
          "status": "completed"
        },
        "tags": [],
        "id": "2ILRQ_JhdOL2"
      },
      "source": [
        "# get recommendation"
      ]
    },
    {
      "cell_type": "code",
      "metadata": {
        "execution": {
          "iopub.execute_input": "2021-03-26T01:25:44.410166Z",
          "iopub.status.busy": "2021-03-26T01:25:44.409485Z",
          "iopub.status.idle": "2021-03-26T01:25:44.455551Z",
          "shell.execute_reply": "2021-03-26T01:25:44.454933Z"
        },
        "papermill": {
          "duration": 4.704906,
          "end_time": "2021-03-26T01:25:44.455716",
          "exception": false,
          "start_time": "2021-03-26T01:25:39.750810",
          "status": "completed"
        },
        "tags": [],
        "colab": {
          "base_uri": "https://localhost:8080/",
          "height": 204
        },
        "id": "CfAKEWmhdOL2",
        "outputId": "9cbef1e9-487b-45e4-f046-e19cd86e12d7"
      },
      "source": [
        "m_cols = ['movie_id', 'title', 'release_date', 'video_release_date', 'imdb_url']\n",
        "item_df = pd.read_csv(os.path.join(DATA_DIR, 'u.item'), sep='|', encoding=\"iso-8859-1\", usecols=range(5), names=m_cols)\n",
        "item_df.head()"
      ],
      "execution_count": 13,
      "outputs": [
        {
          "output_type": "execute_result",
          "data": {
            "text/html": [
              "<div>\n",
              "<style scoped>\n",
              "    .dataframe tbody tr th:only-of-type {\n",
              "        vertical-align: middle;\n",
              "    }\n",
              "\n",
              "    .dataframe tbody tr th {\n",
              "        vertical-align: top;\n",
              "    }\n",
              "\n",
              "    .dataframe thead th {\n",
              "        text-align: right;\n",
              "    }\n",
              "</style>\n",
              "<table border=\"1\" class=\"dataframe\">\n",
              "  <thead>\n",
              "    <tr style=\"text-align: right;\">\n",
              "      <th></th>\n",
              "      <th>movie_id</th>\n",
              "      <th>title</th>\n",
              "      <th>release_date</th>\n",
              "      <th>video_release_date</th>\n",
              "      <th>imdb_url</th>\n",
              "    </tr>\n",
              "  </thead>\n",
              "  <tbody>\n",
              "    <tr>\n",
              "      <th>0</th>\n",
              "      <td>1</td>\n",
              "      <td>Toy Story (1995)</td>\n",
              "      <td>01-Jan-1995</td>\n",
              "      <td>NaN</td>\n",
              "      <td>http://us.imdb.com/M/title-exact?Toy%20Story%2...</td>\n",
              "    </tr>\n",
              "    <tr>\n",
              "      <th>1</th>\n",
              "      <td>2</td>\n",
              "      <td>GoldenEye (1995)</td>\n",
              "      <td>01-Jan-1995</td>\n",
              "      <td>NaN</td>\n",
              "      <td>http://us.imdb.com/M/title-exact?GoldenEye%20(...</td>\n",
              "    </tr>\n",
              "    <tr>\n",
              "      <th>2</th>\n",
              "      <td>3</td>\n",
              "      <td>Four Rooms (1995)</td>\n",
              "      <td>01-Jan-1995</td>\n",
              "      <td>NaN</td>\n",
              "      <td>http://us.imdb.com/M/title-exact?Four%20Rooms%...</td>\n",
              "    </tr>\n",
              "    <tr>\n",
              "      <th>3</th>\n",
              "      <td>4</td>\n",
              "      <td>Get Shorty (1995)</td>\n",
              "      <td>01-Jan-1995</td>\n",
              "      <td>NaN</td>\n",
              "      <td>http://us.imdb.com/M/title-exact?Get%20Shorty%...</td>\n",
              "    </tr>\n",
              "    <tr>\n",
              "      <th>4</th>\n",
              "      <td>5</td>\n",
              "      <td>Copycat (1995)</td>\n",
              "      <td>01-Jan-1995</td>\n",
              "      <td>NaN</td>\n",
              "      <td>http://us.imdb.com/M/title-exact?Copycat%20(1995)</td>\n",
              "    </tr>\n",
              "  </tbody>\n",
              "</table>\n",
              "</div>"
            ],
            "text/plain": [
              "   movie_id  ...                                           imdb_url\n",
              "0         1  ...  http://us.imdb.com/M/title-exact?Toy%20Story%2...\n",
              "1         2  ...  http://us.imdb.com/M/title-exact?GoldenEye%20(...\n",
              "2         3  ...  http://us.imdb.com/M/title-exact?Four%20Rooms%...\n",
              "3         4  ...  http://us.imdb.com/M/title-exact?Get%20Shorty%...\n",
              "4         5  ...  http://us.imdb.com/M/title-exact?Copycat%20(1995)\n",
              "\n",
              "[5 rows x 5 columns]"
            ]
          },
          "metadata": {
            "tags": []
          },
          "execution_count": 13
        }
      ]
    },
    {
      "cell_type": "code",
      "metadata": {
        "execution": {
          "iopub.execute_input": "2021-03-26T01:25:53.506396Z",
          "iopub.status.busy": "2021-03-26T01:25:53.505659Z",
          "iopub.status.idle": "2021-03-26T01:25:53.509877Z",
          "shell.execute_reply": "2021-03-26T01:25:53.508741Z"
        },
        "papermill": {
          "duration": 4.508635,
          "end_time": "2021-03-26T01:25:53.510035",
          "exception": false,
          "start_time": "2021-03-26T01:25:49.001400",
          "status": "completed"
        },
        "tags": [],
        "id": "plPBCLTqdOL5"
      },
      "source": [
        "def load_model():\n",
        "    best_path = os.path.join(OUTPUT_DIR, 'best_model.bin')\n",
        "    model = MatrixFactorizationPyTorch(n_user, n_item, k=config.embedding_dim)\n",
        "    model.load_state_dict(torch.load(best_path)['model'])\n",
        "    return model\n",
        "\n",
        "def predict_rating(rec_df):\n",
        "    model = load_model()\n",
        "    model.eval()\n",
        "    dataloader = DataLoader(MovieLensDataset(rec_df), batch_size=10, shuffle=False,)\n",
        "    pbar = tqdm(dataloader, total=len(dataloader))\n",
        "    preds = []\n",
        "    for data in pbar:\n",
        "        user_id = data['user']\n",
        "        item_id = data['item']\n",
        "        rating = data['rating']\n",
        "\n",
        "        preds += model(user_id, item_id)\n",
        "\n",
        "    return torch.stack(preds).detach().numpy()\n",
        "\n",
        "def recommend_for_user(user_id, rating_df, item_df, top_n=10):\n",
        "    # Extract data that user have never seen.\n",
        "    rec_df = rating_df.query(\"user_id != @user_id\")\n",
        "    rec_df['user_id'] = user_id\n",
        "    rec_df = rec_df.drop_duplicates(subset=['user_id','item_id'])\n",
        "\n",
        "    # predict rating\n",
        "    rec_df['rating'] = predict_rating(rec_df)\n",
        "    \n",
        "    # clip rating\n",
        "    # I don't know if this is the right way...\n",
        "    rec_df = rec_df.query('0.5 <= rating <= 5.5 ')\n",
        "\n",
        "    # add title column \n",
        "    d = dict(zip(item_df.movie_id, item_df.title))\n",
        "    rec_df['title'] = rec_df['item_id'].map(d)\n",
        "    rec_df = rec_df.sort_values('rating', ascending=False)\n",
        "\n",
        "    # show recommended movies\n",
        "    print('-'*30 + 'recommendations' + '-'*30)\n",
        "    print(rec_df[['title','rating']].head(top_n))\n",
        "#     for i, row in rec_df.head(top_n).iterrows():\n",
        "#         title, rating = row['title'],row['rating']\n",
        "#         print(f'{i:}: title:{title}  score:{rating}')\n",
        "\n",
        "    # show movies which user have watched before\n",
        "    user_df = rating_df.query(\"user_id == @user_id\")\n",
        "    user_df['title'] = user_df['item_id'].map(d)\n",
        "    user_df = user_df.sort_values('rating', ascending=False)\n",
        "\n",
        "    print('-'*30 + 'watched_movies' + '-'*30)\n",
        "    print(user_df[['title','rating']].head(top_n))\n",
        "#     for i, row in user_df.head(top_n).iterrows():\n",
        "#         title, rating = row['title'], row['rating']\n",
        "#         print(f'{i}: title:{title}  score:{rating}')\n",
        "\n"
      ],
      "execution_count": 14,
      "outputs": []
    },
    {
      "cell_type": "code",
      "metadata": {
        "execution": {
          "iopub.execute_input": "2021-03-26T01:26:02.449274Z",
          "iopub.status.busy": "2021-03-26T01:26:02.448619Z",
          "iopub.status.idle": "2021-03-26T01:26:02.810078Z",
          "shell.execute_reply": "2021-03-26T01:26:02.810634Z"
        },
        "papermill": {
          "duration": 4.865368,
          "end_time": "2021-03-26T01:26:02.810831",
          "exception": false,
          "start_time": "2021-03-26T01:25:57.945463",
          "status": "completed"
        },
        "tags": [],
        "colab": {
          "base_uri": "https://localhost:8080/"
        },
        "id": "4KtOF4HCdOL7",
        "outputId": "9949c585-88fc-4670-e8e3-95cfc4053e8d"
      },
      "source": [
        "user_id = random.choice(df.user_id.values)\n",
        "print(user_id)\n",
        "recommend_for_user(user_id, df, item_df)"
      ],
      "execution_count": 16,
      "outputs": [
        {
          "output_type": "stream",
          "text": [
            "/usr/local/lib/python3.7/dist-packages/ipykernel_launcher.py:25: SettingWithCopyWarning: \n",
            "A value is trying to be set on a copy of a slice from a DataFrame.\n",
            "Try using .loc[row_indexer,col_indexer] = value instead\n",
            "\n",
            "See the caveats in the documentation: https://pandas.pydata.org/pandas-docs/stable/user_guide/indexing.html#returning-a-view-versus-a-copy\n",
            " 38%|███▊      | 64/169 [00:00<00:00, 633.01it/s]"
          ],
          "name": "stderr"
        },
        {
          "output_type": "stream",
          "text": [
            "716\n"
          ],
          "name": "stdout"
        },
        {
          "output_type": "stream",
          "text": [
            "100%|██████████| 169/169 [00:00<00:00, 593.54it/s]\n",
            "/usr/local/lib/python3.7/dist-packages/ipykernel_launcher.py:37: SettingWithCopyWarning: \n",
            "A value is trying to be set on a copy of a slice from a DataFrame.\n",
            "Try using .loc[row_indexer,col_indexer] = value instead\n",
            "\n",
            "See the caveats in the documentation: https://pandas.pydata.org/pandas-docs/stable/user_guide/indexing.html#returning-a-view-versus-a-copy\n"
          ],
          "name": "stderr"
        },
        {
          "output_type": "stream",
          "text": [
            "------------------------------recommendations------------------------------\n",
            "                                                   title    rating\n",
            "47896                           Lady of Burlesque (1943)  5.342951\n",
            "115                                Quiet Man, The (1952)  5.316945\n",
            "3789   Return of Martin Guerre, The (Retour de Martin...  5.187860\n",
            "1085                            Three Colors: Red (1994)  5.160166\n",
            "346                               Family Thing, A (1996)  5.157436\n",
            "57037                               Sliding Doors (1998)  5.132694\n",
            "451                            Three Colors: Blue (1993)  5.103646\n",
            "2705                              Shaggy Dog, The (1959)  5.065675\n",
            "1768                        Farewell My Concubine (1993)  5.047469\n",
            "66941                 Á köldum klaka (Cold Fever) (1994)  5.029562\n",
            "------------------------------watched_movies------------------------------\n",
            "                                                   title  rating\n",
            "45279                            Schindler's List (1993)       5\n",
            "73000                     Raiders of the Lost Ark (1981)       5\n",
            "45334                                  Casablanca (1942)       5\n",
            "70409                                Men in Black (1997)       5\n",
            "71082                               All About Eve (1950)       5\n",
            "71095  Dr. Strangelove or: How I Learned to Stop Worr...       5\n",
            "71454                            Some Like It Hot (1959)       5\n",
            "72924                Mr. Smith Goes to Washington (1939)       5\n",
            "73872                                    Fantasia (1940)       5\n",
            "67993                                  Braveheart (1995)       5\n"
          ],
          "name": "stdout"
        },
        {
          "output_type": "stream",
          "text": [
            "/usr/local/lib/python3.7/dist-packages/ipykernel_launcher.py:49: SettingWithCopyWarning: \n",
            "A value is trying to be set on a copy of a slice from a DataFrame.\n",
            "Try using .loc[row_indexer,col_indexer] = value instead\n",
            "\n",
            "See the caveats in the documentation: https://pandas.pydata.org/pandas-docs/stable/user_guide/indexing.html#returning-a-view-versus-a-copy\n"
          ],
          "name": "stderr"
        }
      ]
    },
    {
      "cell_type": "code",
      "metadata": {
        "papermill": {
          "duration": 4.666093,
          "end_time": "2021-03-26T01:26:12.004324",
          "exception": false,
          "start_time": "2021-03-26T01:26:07.338231",
          "status": "completed"
        },
        "tags": [],
        "id": "9An5S8kJdOL8"
      },
      "source": [
        ""
      ],
      "execution_count": null,
      "outputs": []
    }
  ]
}